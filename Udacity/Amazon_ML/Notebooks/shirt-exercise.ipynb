{
 "cells": [
  {
   "cell_type": "markdown",
   "source": [
    "# Use the Shirt Class\r\n",
    "\r\n",
    "You've seen what a class looks like and how to instantiate an object. Now it's your turn to write code that insantiates a shirt object.\r\n",
    "\r\n",
    "# Explanation of the Code\r\n",
    "This exercise using Jupyter notebook includes three files:\r\n",
    "- shirt_exercise.ipynb, which is the file you are currently looking at\r\n",
    "- answer.py containing answers to the exercise\r\n",
    "- tests.py, tests for checking your code - you can run these tests using the last code cell at the bottom of this notebook\r\n",
    "\r\n",
    "# Your Task\r\n",
    "The shirt_exercise.ipynb file, which you are currently looking at if you are reading this, has an exercise to help guide you through coding with an object in Python.\r\n",
    "\r\n",
    "Fill out the TODOs in each section of the Jupyter notebook. You can find a solution in the answer.py file.\r\n",
    "\r\n",
    "First, run this code cell below to load the Shirt class."
   ],
   "metadata": {}
  },
  {
   "cell_type": "code",
   "execution_count": 2,
   "source": [
    "class Shirt:\r\n",
    "\r\n",
    "    def __init__(self, shirt_color, shirt_size, shirt_style, shirt_price):\r\n",
    "        self.color = shirt_color\r\n",
    "        self.size = shirt_size\r\n",
    "        self.style = shirt_style\r\n",
    "        self.price = shirt_price\r\n",
    "    \r\n",
    "    def change_price(self, new_price):\r\n",
    "    \r\n",
    "        self.price = new_price\r\n",
    "        \r\n",
    "    def discount(self, discount):\r\n",
    "\r\n",
    "        return self.price * (1 - discount)"
   ],
   "outputs": [],
   "metadata": {}
  },
  {
   "cell_type": "code",
   "execution_count": 22,
   "source": [
    "### TODO:\r\n",
    "#    - insantiate a shirt object with the following characteristics:\r\n",
    "#        - color red, size S, style long-sleeve, and price 25\r\n",
    "#    - store the object in a variable called shirt_one\r\n",
    "#\r\n",
    "#\r\n",
    "###\r\n",
    "\r\n",
    "shirt_one = Shirt('red', 'S', 'long-sleeve', 25)\r\n"
   ],
   "outputs": [],
   "metadata": {}
  },
  {
   "cell_type": "code",
   "execution_count": 23,
   "source": [
    "### TODO:\r\n",
    "#     - print the price of the shirt using the price attribute\r\n",
    "#     - use the change_price method to change the price of the shirt to 10\r\n",
    "#     - print the price of the shirt using the price attribute\r\n",
    "#     - use the discount method to print the price of the shirt with a 12% discount\r\n",
    "#\r\n",
    "###\r\n",
    "print(shirt_one.price)\r\n",
    "shirt_one.change_price(10)\r\n",
    "print(shirt_one.price)\r\n",
    "print(shirt_one.discount(.12))"
   ],
   "outputs": [
    {
     "output_type": "stream",
     "name": "stdout",
     "text": [
      "25\n",
      "10\n",
      "8.8\n"
     ]
    }
   ],
   "metadata": {}
  },
  {
   "cell_type": "code",
   "execution_count": 24,
   "source": [
    "### TODO:\r\n",
    "#\r\n",
    "#    - instantiate another object with the following characteristics:\r\n",
    "# .       - color orange, size L, style short-sleeve, and price 10\r\n",
    "#    - store the object in a variable called shirt_two\r\n",
    "#\r\n",
    "###\r\n",
    "\r\n",
    "shirt_two = Shirt('orange', 'L', 'short-sleeve', 10)"
   ],
   "outputs": [],
   "metadata": {}
  },
  {
   "cell_type": "code",
   "execution_count": 25,
   "source": [
    "### TODO:\r\n",
    "#\r\n",
    "#    - calculate the total cost of shirt_one and shirt_two\r\n",
    "#    - store the results in a variable called total\r\n",
    "#    \r\n",
    "###\r\n",
    "\r\n",
    "total  = shirt_one.price + shirt_two.price\r\n",
    "\r\n",
    "print(total)"
   ],
   "outputs": [
    {
     "output_type": "stream",
     "name": "stdout",
     "text": [
      "20\n"
     ]
    }
   ],
   "metadata": {}
  },
  {
   "cell_type": "code",
   "execution_count": 26,
   "source": [
    "### TODO:\r\n",
    "#\r\n",
    "#    - use the shirt discount method to calculate the total cost if\r\n",
    "#       shirt_one has a discount of 14% and shirt_two has a discount\r\n",
    "#       of 6%\r\n",
    "#    - store the results in a variable called total_discount\r\n",
    "###\r\n",
    "\r\n",
    "total_discount = shirt_one.discount(.14) + shirt_two.discount(.06)\r\n",
    "print(total_discount)"
   ],
   "outputs": [
    {
     "output_type": "stream",
     "name": "stdout",
     "text": [
      "18.0\n"
     ]
    }
   ],
   "metadata": {}
  },
  {
   "cell_type": "markdown",
   "source": [
    "# Test your Code\n",
    "\n",
    "\n",
    "The following code cell tests your code. \n",
    "\n",
    "There is a file called tests.py containing a function called run_tests(). The run_tests() function executes a handful of assert statements to check your work. You can see this file if you go to the Jupyter Notebook menu and click on \"File->Open\" and then open the tests.py file.\n",
    "\n",
    "Execute the next code cell. The code will produce an error if your answers in this exercise are not what was expected. Keep working on your code until all tests are passing.\n",
    "\n",
    "If you run the code cell and there is no output, then you passed all the tests!\n",
    "\n",
    "As mentioned previously, there's also a file with a solution. To find the solution, click on the Jupyter logo at the top of the workspace, and then enter the folder titled 1.OOP_syntax_shirt_practice"
   ],
   "metadata": {}
  },
  {
   "cell_type": "code",
   "execution_count": 27,
   "source": [
    "# Unit tests to check your solution\r\n",
    "from tests import run_tests\r\n",
    "\r\n",
    "run_tests(shirt_one, shirt_two, total, total_discount)"
   ],
   "outputs": [],
   "metadata": {}
  }
 ],
 "metadata": {
  "kernelspec": {
   "name": "python3",
   "display_name": "Python 3.9.0 64-bit"
  },
  "language_info": {
   "codemirror_mode": {
    "name": "ipython",
    "version": 3
   },
   "file_extension": ".py",
   "mimetype": "text/x-python",
   "name": "python",
   "nbconvert_exporter": "python",
   "pygments_lexer": "ipython3",
   "version": "3.9.0"
  },
  "interpreter": {
   "hash": "4896e596f7bf8b782c1054ddda7c9e308b9f639049da503a6f6be3743feaaecc"
  }
 },
 "nbformat": 4,
 "nbformat_minor": 2
}