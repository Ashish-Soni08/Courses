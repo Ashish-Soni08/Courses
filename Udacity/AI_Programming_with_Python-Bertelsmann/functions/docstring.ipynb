{
 "cells": [
  {
   "cell_type": "code",
   "execution_count": null,
   "metadata": {
    "edited": true,
    "gradable": true,
    "grader_id": "rhm01b48to",
    "udacity_user_query": ""
   },
   "outputs": [],
   "source": [
    "def readable_timedelta(days):\n",
    "    # insert your docstring here\n",
    "    \"\"\"Return a string of the number of weeks and days included in days.\n",
    "\n",
    "    Args:\n",
    "        days (int): number of days to convert\n",
    "    \"\"\"\n",
    "    \n",
    "    weeks = days // 7\n",
    "    remainder = days % 7\n",
    "    return \"{} week(s) and {} day(s)\".format(weeks, remainder)"
   ]
  }
 ],
 "metadata": {
  "grader_mode": "",
  "kernelspec": {
   "display_name": "Python 3",
   "language": "python",
   "name": "python3"
  },
  "language_info": {
   "codemirror_mode": {
    "name": "ipython",
    "version": 3
   },
   "file_extension": ".py",
   "mimetype": "text/x-python",
   "name": "python",
   "nbconvert_exporter": "python",
   "pygments_lexer": "ipython3",
   "version": "3.6.3"
  },
  "showGradeBtn": true
 },
 "nbformat": 4,
 "nbformat_minor": 2
}
