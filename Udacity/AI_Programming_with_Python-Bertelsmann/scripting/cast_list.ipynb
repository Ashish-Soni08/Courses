{
 "cells": [
  {
   "cell_type": "code",
   "execution_count": 4,
   "metadata": {
    "scrolled": true
   },
   "outputs": [
    {
     "name": "stdout",
     "output_type": "stream",
     "text": [
      "Graham Chapman,  Various / ... (46 episodes, 1969-1974)\n",
      "Eric Idle,  Various / ... (46 episodes, 1969-1974)\n",
      "Terry Jones,  Various / ... (46 episodes, 1969-1974)\n",
      "Michael Palin,  It's Man / ... (46 episodes, 1969-1974)\n",
      "Terry Gilliam,  Various / ... (46 episodes, 1969-1974)\n",
      "John Cleese,  Announcer / ... (40 episodes, 1969-1973)\n",
      "Carol Cleveland,  Various / ... (34 episodes, 1969-1974)\n",
      "Ian Davidson,  Algy Braithwaite / ... (8 episodes, 1969-1970)\n",
      "John Hughman,  Alfred Lord Tennyson / ... (8 episodes, 1970-1974)\n",
      "The Fred Tomlinson Singers,  Amantillado Chorus / ... (7 episodes, 1969-1973)\n",
      "Connie Booth,  Animated Mother / ... (6 episodes, 1969-1974)\n",
      "Bob Raymond,  'Dad' / ... (5 episodes, 1974)\n",
      "Lyn Ashley,  Algon Girl / ... (5 episodes, 1970-1972)\n",
      "Rita Davies,  Argument Secretary / ... (4 episodes, 1969-1972)\n",
      "Stanley Mason,  Clapper Man / ... (4 episodes, 1970-1971)\n",
      "David Ballantyne,  Ivan the Terrible / ... (3 episodes, 1970-1971)\n",
      "Donna Reading,  Girl in Bikini with Its Man / ... (3 episodes, 1969)\n",
      "Peter Brett,  Door-to-Door Martial Arts Salesman (2 episodes, 1974)\n",
      "Maureen Flanagan,  Anona Winn / ... (2 episodes, 1969-1970)\n",
      "Katya Wyeth,  Elsie / ... (2 episodes, 1969)\n",
      "Frank Lester,  The Late Professor Thynne (2 episodes, 1972-1974)\n",
      "Neil Innes,  Hesitant guitarist / ... (2 episodes, 1974)\n",
      "Dick Vosburgh,  Van der Berg (1 episode, 1969)\n",
      "Sandra Richards,  'Semprini' Girl / ... (1 episode, 1970)\n",
      "Julia Breck,  Puss In Boots / ... (1 episode, 1972)\n",
      "Nicki Howorth,  Miss Bladder (1 episode, 1972)\n",
      "Jimmy Hill,  Himself (1 episode, 1974)\n",
      "Barry Cryer,  Herman Rodrigues (1 episode, 1969)\n",
      "Jeannette Wild,  Second Secretary (1 episode, 1970)\n",
      "Marjorie Wilde,  Dear Old Lady (1 episode, 1970)\n",
      "Marie Anderson,  Girl interviewing the announcer (1 episode, 1972)\n",
      "Caron Gardner,  Mary (1 episode, 1973)\n",
      "Nosher Powell,  Jack Bodell (1 episode, 1973)\n",
      "Carolae Donoghue,  Vera's Husband's Mistress (1 episode, 1969)\n",
      "Vincent Wong,  Mr. Kamikaze (1 episode, 1970)\n",
      "Helena Clayton,  Various Roles (1 episode, 1971)\n",
      "Nigel Jones,  Various (1 episode, 1972)\n",
      "Roy Gunson, (1 episode, 1970)\n",
      "Daphne Davey,  Various Roles (1 episode, 1971)\n",
      "Stenson Falke, (1 episode, 1974)\n",
      "Alexander Curry,  Various (1 episode, 1970)\n",
      "Frank Williams,  Clerk of the Court (1 episode, 1972)\n",
      "Ralph Wood, (1 episode, 1970)\n",
      "Rosalind Bailey,  Elizabethan Girl (1 episode, 1972)\n",
      "Marion Mould, (1 episode, 1974)\n",
      "Sheila Sands,  Stripper / ... (uncredited) (2 episodes, 1969)\n",
      "Richard Baker,  Himself - BBC News Anchor (uncredited) (3 episodes, 1972-1973)\n",
      "Douglas Adams,  Dr. Emile Koning - Surgeon / ... (uncredited) (2 episodes, 1974)\n",
      "Ewa Aulin,  Harrassed Woman (uncredited) (1 episode, 1969)\n",
      "Reginald Bosanquet,  Himself (uncredited) (1 episode, 1970)\n",
      "Barbara Lindley,  Bride (uncredited) (1 episode, 1970)\n",
      "Roy Brent,  Armoured Knight (uncredited) (1 episode, 1972)\n",
      "Jonas Card,  Armoured Knight (uncredited) (1 episode, 1972)\n",
      "Tony Christopher,  Armoured Knight (uncredited) (1 episode, 1972)\n",
      "Beulah Hughes, (uncredited) (1 episode, 1972)\n",
      "Peter Kodak,  Armoured Knight (uncredited) (1 episode, 1972)\n",
      "Lulu,  Herself (uncredited) (1 episode, 1972)\n",
      "Jay Neill,  Armoured Knight (uncredited) (1 episode, 1972)\n",
      "Graham Skidmore,  Armoured Knight (uncredited) (1 episode, 1972)\n",
      "Ringo Starr,  Himself (uncredited) (1 episode, 1972)\n",
      "Fred Tomlinson,  Superintendent McGough (uncredited) (1 episode, 1972)\n",
      "David Hamilton,  Himself - Thames TV Announcer (uncredited) (1 episode, 1973)\n",
      "Suzy Mandel,  German Girl (uncredited) (1 episode, 1974)\n",
      "Peter Woods,  BBC Presenter (uncredited) (1 episode, 1974)\n"
     ]
    }
   ],
   "source": [
    "f = open('flying_circus_cast.txt', 'r')\n",
    "file_data = f.read()\n",
    "print(file_data)\n",
    "f.close()"
   ]
  },
  {
   "cell_type": "code",
   "execution_count": 5,
   "metadata": {},
   "outputs": [
    {
     "name": "stdout",
     "output_type": "stream",
     "text": [
      "<class 'str'>\n"
     ]
    }
   ],
   "source": [
    "print(type(file_data))"
   ]
  },
  {
   "cell_type": "code",
   "execution_count": 7,
   "metadata": {
    "edited": true,
    "gradable": true,
    "grader_id": "xps4y3jv2b",
    "udacity_user_query": ""
   },
   "outputs": [],
   "source": [
    "def create_cast_list(filename):\n",
    "    cast_list = []\n",
    "    #use with to open the file filename\n",
    "    with open(filename) as f:\n",
    "    #use the for loop syntax to process each line\n",
    "        for line in f:\n",
    "    #and add the actor name to cast_list\n",
    "            name = line.split(\",\")[0]\n",
    "            cast_list.append(name)\n",
    "    return cast_list\n",
    "\n",
    "cast_list = create_cast_list('flying_circus_cast.txt')"
   ]
  },
  {
   "cell_type": "code",
   "execution_count": 8,
   "metadata": {},
   "outputs": [
    {
     "data": {
      "text/plain": [
       "['Graham Chapman',\n",
       " 'Eric Idle',\n",
       " 'Terry Jones',\n",
       " 'Michael Palin',\n",
       " 'Terry Gilliam',\n",
       " 'John Cleese',\n",
       " 'Carol Cleveland',\n",
       " 'Ian Davidson',\n",
       " 'John Hughman',\n",
       " 'The Fred Tomlinson Singers',\n",
       " 'Connie Booth',\n",
       " 'Bob Raymond',\n",
       " 'Lyn Ashley',\n",
       " 'Rita Davies',\n",
       " 'Stanley Mason',\n",
       " 'David Ballantyne',\n",
       " 'Donna Reading',\n",
       " 'Peter Brett',\n",
       " 'Maureen Flanagan',\n",
       " 'Katya Wyeth',\n",
       " 'Frank Lester',\n",
       " 'Neil Innes',\n",
       " 'Dick Vosburgh',\n",
       " 'Sandra Richards',\n",
       " 'Julia Breck',\n",
       " 'Nicki Howorth',\n",
       " 'Jimmy Hill',\n",
       " 'Barry Cryer',\n",
       " 'Jeannette Wild',\n",
       " 'Marjorie Wilde',\n",
       " 'Marie Anderson',\n",
       " 'Caron Gardner',\n",
       " 'Nosher Powell',\n",
       " 'Carolae Donoghue',\n",
       " 'Vincent Wong',\n",
       " 'Helena Clayton',\n",
       " 'Nigel Jones',\n",
       " 'Roy Gunson',\n",
       " 'Daphne Davey',\n",
       " 'Stenson Falke',\n",
       " 'Alexander Curry',\n",
       " 'Frank Williams',\n",
       " 'Ralph Wood',\n",
       " 'Rosalind Bailey',\n",
       " 'Marion Mould',\n",
       " 'Sheila Sands',\n",
       " 'Richard Baker',\n",
       " 'Douglas Adams',\n",
       " 'Ewa Aulin',\n",
       " 'Reginald Bosanquet',\n",
       " 'Barbara Lindley',\n",
       " 'Roy Brent',\n",
       " 'Jonas Card',\n",
       " 'Tony Christopher',\n",
       " 'Beulah Hughes',\n",
       " 'Peter Kodak',\n",
       " 'Lulu',\n",
       " 'Jay Neill',\n",
       " 'Graham Skidmore',\n",
       " 'Ringo Starr',\n",
       " 'Fred Tomlinson',\n",
       " 'David Hamilton',\n",
       " 'Suzy Mandel',\n",
       " 'Peter Woods']"
      ]
     },
     "execution_count": 8,
     "metadata": {},
     "output_type": "execute_result"
    }
   ],
   "source": [
    "cast_list"
   ]
  }
 ],
 "metadata": {
  "grader_mode": "",
  "kernelspec": {
   "display_name": "Python 3",
   "language": "python",
   "name": "python3"
  },
  "language_info": {
   "codemirror_mode": {
    "name": "ipython",
    "version": 3
   },
   "file_extension": ".py",
   "mimetype": "text/x-python",
   "name": "python",
   "nbconvert_exporter": "python",
   "pygments_lexer": "ipython3",
   "version": "3.6.3"
  },
  "showGradeBtn": true
 },
 "nbformat": 4,
 "nbformat_minor": 2
}
