{
  "nbformat": 4,
  "nbformat_minor": 0,
  "metadata": {
    "colab": {
      "name": "DPS_Challenge_Ashish_Soni.ipynb",
      "provenance": [],
      "collapsed_sections": [],
      "mount_file_id": "1vn2QTNhlAbRNtXMVvx-WCSZx7N-kdaxW",
      "authorship_tag": "ABX9TyP22l8W2cPthruBUclpciT6",
      "include_colab_link": true
    },
    "kernelspec": {
      "name": "python3",
      "display_name": "Python 3"
    },
    "language_info": {
      "name": "python"
    }
  },
  "cells": [
    {
      "cell_type": "markdown",
      "metadata": {
        "id": "view-in-github",
        "colab_type": "text"
      },
      "source": [
        "<a href=\"https://colab.research.google.com/github/Ashish-Soni08/DPS_Challenge/blob/main/DPS_Challenge_Ashish_Soni.ipynb\" target=\"_parent\"><img src=\"https://colab.research.google.com/assets/colab-badge.svg\" alt=\"Open In Colab\"/></a>"
      ]
    },
    {
      "cell_type": "markdown",
      "metadata": {
        "id": "16HgPRb11qxW"
      },
      "source": [
        "# Mission 1: Create an AI model\n",
        "\n",
        "Here you will see the number of accidents for specific categories per month. Important are the first 5 columns:\n",
        "- Category\n",
        "- Accident-type (insgesamt means total for all subcategories)\n",
        "- Year\n",
        "- Month\n",
        "- Value\n",
        "\n",
        "\n"
      ]
    },
    {
      "cell_type": "markdown",
      "metadata": {
        "id": "WEGZX2nZ3H3V"
      },
      "source": [
        "## Import Packages and Data"
      ]
    },
    {
      "cell_type": "code",
      "metadata": {
        "id": "jF_8Xu_GxDNw"
      },
      "source": [
        "import pandas as pd\n",
        "import datetime as dt\n",
        "\n",
        "import matplotlib.pyplot as plt\n",
        "%matplotlib inline\n",
        "import seaborn as sns\n",
        "\n",
        "import pickle"
      ],
      "execution_count": 43,
      "outputs": []
    },
    {
      "cell_type": "code",
      "metadata": {
        "id": "8p0ovGx_2sqz"
      },
      "source": [
        "data = pd.read_csv(\"/content/drive/MyDrive/dps_data.csv\")"
      ],
      "execution_count": 2,
      "outputs": []
    },
    {
      "cell_type": "markdown",
      "metadata": {
        "id": "Oy19e7nW3yP7"
      },
      "source": [
        "## Explore Data\n",
        "\n",
        "**Summary of the data set:** The data set for monthly traffic accidents includes the topics:- \n",
        "\n",
        "- traffic accidents \n",
        "- escape accidents \n",
        "- alcohol accidents "
      ]
    },
    {
      "cell_type": "code",
      "metadata": {
        "id": "Hs-qvqXj3u_c",
        "colab": {
          "base_uri": "https://localhost:8080/",
          "height": 206
        },
        "outputId": "9a80c568-1609-49b2-8631-5333de792501"
      },
      "source": [
        "data.head()"
      ],
      "execution_count": 3,
      "outputs": [
        {
          "output_type": "execute_result",
          "data": {
            "text/html": [
              "<div>\n",
              "<style scoped>\n",
              "    .dataframe tbody tr th:only-of-type {\n",
              "        vertical-align: middle;\n",
              "    }\n",
              "\n",
              "    .dataframe tbody tr th {\n",
              "        vertical-align: top;\n",
              "    }\n",
              "\n",
              "    .dataframe thead th {\n",
              "        text-align: right;\n",
              "    }\n",
              "</style>\n",
              "<table border=\"1\" class=\"dataframe\">\n",
              "  <thead>\n",
              "    <tr style=\"text-align: right;\">\n",
              "      <th></th>\n",
              "      <th>MONATSZAHL</th>\n",
              "      <th>AUSPRAEGUNG</th>\n",
              "      <th>JAHR</th>\n",
              "      <th>MONAT</th>\n",
              "      <th>WERT</th>\n",
              "      <th>VORJAHRESWERT</th>\n",
              "      <th>VERAEND_VORMONAT_PROZENT</th>\n",
              "      <th>VERAEND_VORJAHRESMONAT_PROZENT</th>\n",
              "      <th>ZWOELF_MONATE_MITTELWERT</th>\n",
              "    </tr>\n",
              "  </thead>\n",
              "  <tbody>\n",
              "    <tr>\n",
              "      <th>0</th>\n",
              "      <td>Alkoholunfälle</td>\n",
              "      <td>insgesamt</td>\n",
              "      <td>2021</td>\n",
              "      <td>202101</td>\n",
              "      <td>NaN</td>\n",
              "      <td>28.0</td>\n",
              "      <td>NaN</td>\n",
              "      <td>NaN</td>\n",
              "      <td>NaN</td>\n",
              "    </tr>\n",
              "    <tr>\n",
              "      <th>1</th>\n",
              "      <td>Alkoholunfälle</td>\n",
              "      <td>insgesamt</td>\n",
              "      <td>2021</td>\n",
              "      <td>202102</td>\n",
              "      <td>NaN</td>\n",
              "      <td>40.0</td>\n",
              "      <td>NaN</td>\n",
              "      <td>NaN</td>\n",
              "      <td>NaN</td>\n",
              "    </tr>\n",
              "    <tr>\n",
              "      <th>2</th>\n",
              "      <td>Alkoholunfälle</td>\n",
              "      <td>insgesamt</td>\n",
              "      <td>2021</td>\n",
              "      <td>202103</td>\n",
              "      <td>NaN</td>\n",
              "      <td>27.0</td>\n",
              "      <td>NaN</td>\n",
              "      <td>NaN</td>\n",
              "      <td>NaN</td>\n",
              "    </tr>\n",
              "    <tr>\n",
              "      <th>3</th>\n",
              "      <td>Alkoholunfälle</td>\n",
              "      <td>insgesamt</td>\n",
              "      <td>2021</td>\n",
              "      <td>202104</td>\n",
              "      <td>NaN</td>\n",
              "      <td>26.0</td>\n",
              "      <td>NaN</td>\n",
              "      <td>NaN</td>\n",
              "      <td>NaN</td>\n",
              "    </tr>\n",
              "    <tr>\n",
              "      <th>4</th>\n",
              "      <td>Alkoholunfälle</td>\n",
              "      <td>insgesamt</td>\n",
              "      <td>2021</td>\n",
              "      <td>202105</td>\n",
              "      <td>NaN</td>\n",
              "      <td>40.0</td>\n",
              "      <td>NaN</td>\n",
              "      <td>NaN</td>\n",
              "      <td>NaN</td>\n",
              "    </tr>\n",
              "  </tbody>\n",
              "</table>\n",
              "</div>"
            ],
            "text/plain": [
              "       MONATSZAHL  ... ZWOELF_MONATE_MITTELWERT\n",
              "0  Alkoholunfälle  ...                      NaN\n",
              "1  Alkoholunfälle  ...                      NaN\n",
              "2  Alkoholunfälle  ...                      NaN\n",
              "3  Alkoholunfälle  ...                      NaN\n",
              "4  Alkoholunfälle  ...                      NaN\n",
              "\n",
              "[5 rows x 9 columns]"
            ]
          },
          "metadata": {},
          "execution_count": 3
        }
      ]
    },
    {
      "cell_type": "code",
      "metadata": {
        "id": "i89BXa2d34ul",
        "colab": {
          "base_uri": "https://localhost:8080/"
        },
        "outputId": "3bd98f3e-aee5-4da3-eef6-685117e83df3"
      },
      "source": [
        "print(\"Number of rows and columns in the dataset are:\",  data.shape)"
      ],
      "execution_count": 4,
      "outputs": [
        {
          "output_type": "stream",
          "name": "stdout",
          "text": [
            "Number of rows and columns in the dataset are: (1995, 9)\n"
          ]
        }
      ]
    },
    {
      "cell_type": "code",
      "metadata": {
        "id": "yxKiyCtp4JxM",
        "colab": {
          "base_uri": "https://localhost:8080/"
        },
        "outputId": "2c755034-7a71-4d43-c0c1-a9d9c36bec88"
      },
      "source": [
        "data.info()"
      ],
      "execution_count": 5,
      "outputs": [
        {
          "output_type": "stream",
          "name": "stdout",
          "text": [
            "<class 'pandas.core.frame.DataFrame'>\n",
            "RangeIndex: 1995 entries, 0 to 1994\n",
            "Data columns (total 9 columns):\n",
            " #   Column                          Non-Null Count  Dtype  \n",
            "---  ------                          --------------  -----  \n",
            " 0   MONATSZAHL                      1995 non-null   object \n",
            " 1   AUSPRAEGUNG                     1995 non-null   object \n",
            " 2   JAHR                            1995 non-null   int64  \n",
            " 3   MONAT                           1995 non-null   object \n",
            " 4   WERT                            1911 non-null   float64\n",
            " 5   VORJAHRESWERT                   1904 non-null   float64\n",
            " 6   VERAEND_VORMONAT_PROZENT        1756 non-null   float64\n",
            " 7   VERAEND_VORJAHRESMONAT_PROZENT  1819 non-null   float64\n",
            " 8   ZWOELF_MONATE_MITTELWERT        1764 non-null   float64\n",
            "dtypes: float64(5), int64(1), object(3)\n",
            "memory usage: 140.4+ KB\n"
          ]
        }
      ]
    },
    {
      "cell_type": "code",
      "metadata": {
        "id": "e_7sCRW553Kw"
      },
      "source": [
        "data = data.rename(columns={'MONATSZAHL' : 'category',\n",
        "                     'AUSPRAEGUNG': 'accident_type',\n",
        "                     'JAHR'       :'year',\n",
        "                     'MONAT'      : 'month',\n",
        "                     'WERT'       : 'value'})"
      ],
      "execution_count": 6,
      "outputs": []
    },
    {
      "cell_type": "code",
      "metadata": {
        "id": "QjOHm8gE-AUF"
      },
      "source": [
        "columns = ['category', 'accident_type', 'year', 'month', 'value']\n",
        "\n",
        "data = data[columns]"
      ],
      "execution_count": 7,
      "outputs": []
    },
    {
      "cell_type": "code",
      "metadata": {
        "id": "BxD8GQLL7PqT",
        "colab": {
          "base_uri": "https://localhost:8080/"
        },
        "outputId": "5558300b-e87f-478a-f39c-a9baad10e79c"
      },
      "source": [
        "data.columns"
      ],
      "execution_count": 8,
      "outputs": [
        {
          "output_type": "execute_result",
          "data": {
            "text/plain": [
              "Index(['category', 'accident_type', 'year', 'month', 'value'], dtype='object')"
            ]
          },
          "metadata": {},
          "execution_count": 8
        }
      ]
    },
    {
      "cell_type": "code",
      "metadata": {
        "id": "SL_6nStD7KWh",
        "colab": {
          "base_uri": "https://localhost:8080/",
          "height": 300
        },
        "outputId": "bcbd745b-b06e-4d40-f077-533e0b10f1b2"
      },
      "source": [
        "data.describe(include=[\"number\"])"
      ],
      "execution_count": 9,
      "outputs": [
        {
          "output_type": "execute_result",
          "data": {
            "text/html": [
              "<div>\n",
              "<style scoped>\n",
              "    .dataframe tbody tr th:only-of-type {\n",
              "        vertical-align: middle;\n",
              "    }\n",
              "\n",
              "    .dataframe tbody tr th {\n",
              "        vertical-align: top;\n",
              "    }\n",
              "\n",
              "    .dataframe thead th {\n",
              "        text-align: right;\n",
              "    }\n",
              "</style>\n",
              "<table border=\"1\" class=\"dataframe\">\n",
              "  <thead>\n",
              "    <tr style=\"text-align: right;\">\n",
              "      <th></th>\n",
              "      <th>year</th>\n",
              "      <th>value</th>\n",
              "    </tr>\n",
              "  </thead>\n",
              "  <tbody>\n",
              "    <tr>\n",
              "      <th>count</th>\n",
              "      <td>1995.000000</td>\n",
              "      <td>1911.000000</td>\n",
              "    </tr>\n",
              "    <tr>\n",
              "      <th>mean</th>\n",
              "      <td>2010.463158</td>\n",
              "      <td>1440.540031</td>\n",
              "    </tr>\n",
              "    <tr>\n",
              "      <th>std</th>\n",
              "      <td>6.326381</td>\n",
              "      <td>4655.514611</td>\n",
              "    </tr>\n",
              "    <tr>\n",
              "      <th>min</th>\n",
              "      <td>2000.000000</td>\n",
              "      <td>0.000000</td>\n",
              "    </tr>\n",
              "    <tr>\n",
              "      <th>25%</th>\n",
              "      <td>2005.000000</td>\n",
              "      <td>41.000000</td>\n",
              "    </tr>\n",
              "    <tr>\n",
              "      <th>50%</th>\n",
              "      <td>2010.000000</td>\n",
              "      <td>399.000000</td>\n",
              "    </tr>\n",
              "    <tr>\n",
              "      <th>75%</th>\n",
              "      <td>2016.000000</td>\n",
              "      <td>864.000000</td>\n",
              "    </tr>\n",
              "    <tr>\n",
              "      <th>max</th>\n",
              "      <td>2021.000000</td>\n",
              "      <td>46988.000000</td>\n",
              "    </tr>\n",
              "  </tbody>\n",
              "</table>\n",
              "</div>"
            ],
            "text/plain": [
              "              year         value\n",
              "count  1995.000000   1911.000000\n",
              "mean   2010.463158   1440.540031\n",
              "std       6.326381   4655.514611\n",
              "min    2000.000000      0.000000\n",
              "25%    2005.000000     41.000000\n",
              "50%    2010.000000    399.000000\n",
              "75%    2016.000000    864.000000\n",
              "max    2021.000000  46988.000000"
            ]
          },
          "metadata": {},
          "execution_count": 9
        }
      ]
    },
    {
      "cell_type": "code",
      "metadata": {
        "colab": {
          "base_uri": "https://localhost:8080/",
          "height": 175
        },
        "id": "pkf4iZO8L00g",
        "outputId": "6e9aad0a-a63e-4fbb-e03f-3f8b6954760a"
      },
      "source": [
        "data.describe(include=\"object\")"
      ],
      "execution_count": 10,
      "outputs": [
        {
          "output_type": "execute_result",
          "data": {
            "text/html": [
              "<div>\n",
              "<style scoped>\n",
              "    .dataframe tbody tr th:only-of-type {\n",
              "        vertical-align: middle;\n",
              "    }\n",
              "\n",
              "    .dataframe tbody tr th {\n",
              "        vertical-align: top;\n",
              "    }\n",
              "\n",
              "    .dataframe thead th {\n",
              "        text-align: right;\n",
              "    }\n",
              "</style>\n",
              "<table border=\"1\" class=\"dataframe\">\n",
              "  <thead>\n",
              "    <tr style=\"text-align: right;\">\n",
              "      <th></th>\n",
              "      <th>category</th>\n",
              "      <th>accident_type</th>\n",
              "      <th>month</th>\n",
              "    </tr>\n",
              "  </thead>\n",
              "  <tbody>\n",
              "    <tr>\n",
              "      <th>count</th>\n",
              "      <td>1995</td>\n",
              "      <td>1995</td>\n",
              "      <td>1995</td>\n",
              "    </tr>\n",
              "    <tr>\n",
              "      <th>unique</th>\n",
              "      <td>3</td>\n",
              "      <td>3</td>\n",
              "      <td>265</td>\n",
              "    </tr>\n",
              "    <tr>\n",
              "      <th>top</th>\n",
              "      <td>Verkehrsunfälle</td>\n",
              "      <td>insgesamt</td>\n",
              "      <td>Summe</td>\n",
              "    </tr>\n",
              "    <tr>\n",
              "      <th>freq</th>\n",
              "      <td>855</td>\n",
              "      <td>855</td>\n",
              "      <td>147</td>\n",
              "    </tr>\n",
              "  </tbody>\n",
              "</table>\n",
              "</div>"
            ],
            "text/plain": [
              "               category accident_type  month\n",
              "count              1995          1995   1995\n",
              "unique                3             3    265\n",
              "top     Verkehrsunfälle     insgesamt  Summe\n",
              "freq                855           855    147"
            ]
          },
          "metadata": {},
          "execution_count": 10
        }
      ]
    },
    {
      "cell_type": "code",
      "metadata": {
        "id": "pfHvY4Xq716z",
        "colab": {
          "base_uri": "https://localhost:8080/"
        },
        "outputId": "2f28530b-1bec-458f-819d-069a8fed8216"
      },
      "source": [
        "# Check if missing values exist\n",
        "\n",
        "missing_values_count = data.isnull().sum()\n",
        "missing_values_count"
      ],
      "execution_count": 11,
      "outputs": [
        {
          "output_type": "execute_result",
          "data": {
            "text/plain": [
              "category          0\n",
              "accident_type     0\n",
              "year              0\n",
              "month             0\n",
              "value            84\n",
              "dtype: int64"
            ]
          },
          "metadata": {},
          "execution_count": 11
        }
      ]
    },
    {
      "cell_type": "code",
      "metadata": {
        "colab": {
          "base_uri": "https://localhost:8080/"
        },
        "id": "6-GI9sByMY8o",
        "outputId": "9baece8e-5516-4760-f6dc-35b7126eceba"
      },
      "source": [
        "# Check if duplicate rows exist\n",
        "\n",
        "data.duplicated().sum()"
      ],
      "execution_count": 12,
      "outputs": [
        {
          "output_type": "execute_result",
          "data": {
            "text/plain": [
              "0"
            ]
          },
          "metadata": {},
          "execution_count": 12
        }
      ]
    },
    {
      "cell_type": "code",
      "metadata": {
        "id": "3_ZjahZO77F6",
        "colab": {
          "base_uri": "https://localhost:8080/"
        },
        "outputId": "1589a692-7639-4076-d51c-2b0e38772888"
      },
      "source": [
        "print(\"Number of distinct categories:\", data['category'].nunique())\n",
        "print(\"The unique values are:\", data['category'].unique())"
      ],
      "execution_count": 13,
      "outputs": [
        {
          "output_type": "stream",
          "name": "stdout",
          "text": [
            "Number of distinct categories: 3\n",
            "The unique values are: ['Alkoholunfälle' 'Fluchtunfälle' 'Verkehrsunfälle']\n"
          ]
        }
      ]
    },
    {
      "cell_type": "code",
      "metadata": {
        "id": "UTYyU0Do85d6",
        "colab": {
          "base_uri": "https://localhost:8080/"
        },
        "outputId": "a284c0f0-3a08-44cd-ae00-7daef0722fad"
      },
      "source": [
        "print(\"Number of distinct accident_type:\", data['accident_type'].nunique())\n",
        "print(\"The unique values are:\", data['accident_type'].unique())"
      ],
      "execution_count": 14,
      "outputs": [
        {
          "output_type": "stream",
          "name": "stdout",
          "text": [
            "Number of distinct accident_type: 3\n",
            "The unique values are: ['insgesamt' 'Verletzte und Getötete' 'mit Personenschäden']\n"
          ]
        }
      ]
    },
    {
      "cell_type": "code",
      "metadata": {
        "id": "Ze_XXj-29Kc6",
        "colab": {
          "base_uri": "https://localhost:8080/"
        },
        "outputId": "d4b78e32-f942-456b-d233-af0bf6594d94"
      },
      "source": [
        "print(\"Number of distinct years:\", data['year'].nunique())\n",
        "print(\"The unique values are:\", data['year'].unique())"
      ],
      "execution_count": 15,
      "outputs": [
        {
          "output_type": "stream",
          "name": "stdout",
          "text": [
            "Number of distinct years: 22\n",
            "The unique values are: [2021 2020 2019 2018 2017 2016 2015 2014 2013 2012 2011 2010 2009 2008\n",
            " 2007 2006 2005 2004 2003 2002 2001 2000]\n"
          ]
        }
      ]
    },
    {
      "cell_type": "code",
      "metadata": {
        "id": "vNDVzOaS9A9b",
        "colab": {
          "base_uri": "https://localhost:8080/"
        },
        "outputId": "7c2ee42c-6da4-448a-86e9-3b5d5ff1b6ab"
      },
      "source": [
        "print(\"Number of distinct months:\", data['month'].nunique())\n",
        "print(\"The unique values are:\", data['month'].unique())"
      ],
      "execution_count": 16,
      "outputs": [
        {
          "output_type": "stream",
          "name": "stdout",
          "text": [
            "Number of distinct months: 265\n",
            "The unique values are: ['202101' '202102' '202103' '202104' '202105' '202106' '202107' '202108'\n",
            " '202109' '202110' '202111' '202112' 'Summe' '202001' '202002' '202003'\n",
            " '202004' '202005' '202006' '202007' '202008' '202009' '202010' '202011'\n",
            " '202012' '201901' '201902' '201903' '201904' '201905' '201906' '201907'\n",
            " '201908' '201909' '201910' '201911' '201912' '201801' '201802' '201803'\n",
            " '201804' '201805' '201806' '201807' '201808' '201809' '201810' '201811'\n",
            " '201812' '201701' '201702' '201703' '201704' '201705' '201706' '201707'\n",
            " '201708' '201709' '201710' '201711' '201712' '201601' '201602' '201603'\n",
            " '201604' '201605' '201606' '201607' '201608' '201609' '201610' '201611'\n",
            " '201612' '201501' '201502' '201503' '201504' '201505' '201506' '201507'\n",
            " '201508' '201509' '201510' '201511' '201512' '201401' '201402' '201403'\n",
            " '201404' '201405' '201406' '201407' '201408' '201409' '201410' '201411'\n",
            " '201412' '201301' '201302' '201303' '201304' '201305' '201306' '201307'\n",
            " '201308' '201309' '201310' '201311' '201312' '201201' '201202' '201203'\n",
            " '201204' '201205' '201206' '201207' '201208' '201209' '201210' '201211'\n",
            " '201212' '201101' '201102' '201103' '201104' '201105' '201106' '201107'\n",
            " '201108' '201109' '201110' '201111' '201112' '201001' '201002' '201003'\n",
            " '201004' '201005' '201006' '201007' '201008' '201009' '201010' '201011'\n",
            " '201012' '200901' '200902' '200903' '200904' '200905' '200906' '200907'\n",
            " '200908' '200909' '200910' '200911' '200912' '200801' '200802' '200803'\n",
            " '200804' '200805' '200806' '200807' '200808' '200809' '200810' '200811'\n",
            " '200812' '200701' '200702' '200703' '200704' '200705' '200706' '200707'\n",
            " '200708' '200709' '200710' '200711' '200712' '200601' '200602' '200603'\n",
            " '200604' '200605' '200606' '200607' '200608' '200609' '200610' '200611'\n",
            " '200612' '200501' '200502' '200503' '200504' '200505' '200506' '200507'\n",
            " '200508' '200509' '200510' '200511' '200512' '200401' '200402' '200403'\n",
            " '200404' '200405' '200406' '200407' '200408' '200409' '200410' '200411'\n",
            " '200412' '200301' '200302' '200303' '200304' '200305' '200306' '200307'\n",
            " '200308' '200309' '200310' '200311' '200312' '200201' '200202' '200203'\n",
            " '200204' '200205' '200206' '200207' '200208' '200209' '200210' '200211'\n",
            " '200212' '200101' '200102' '200103' '200104' '200105' '200106' '200107'\n",
            " '200108' '200109' '200110' '200111' '200112' '200001' '200002' '200003'\n",
            " '200004' '200005' '200006' '200007' '200008' '200009' '200010' '200011'\n",
            " '200012']\n"
          ]
        }
      ]
    },
    {
      "cell_type": "code",
      "metadata": {
        "colab": {
          "base_uri": "https://localhost:8080/"
        },
        "id": "NLzT_v1IO2k-",
        "outputId": "6f0a50bc-f985-47a9-d8f2-0a3c9fe3dd09"
      },
      "source": [
        "# Check the index of rows with value of month = 'Summe'\n",
        "idx = data.index[data['month'] == 'Summe'].tolist()\n",
        "print(idx)"
      ],
      "execution_count": 17,
      "outputs": [
        {
          "output_type": "stream",
          "name": "stdout",
          "text": [
            "[12, 25, 38, 51, 64, 77, 90, 103, 116, 129, 142, 155, 168, 181, 194, 207, 220, 233, 246, 259, 272, 297, 310, 323, 336, 349, 362, 375, 388, 401, 414, 427, 440, 453, 466, 479, 492, 505, 518, 531, 544, 557, 582, 595, 608, 621, 634, 647, 660, 673, 686, 699, 712, 725, 738, 751, 764, 777, 790, 803, 816, 829, 842, 867, 880, 893, 906, 919, 932, 945, 958, 971, 984, 997, 1010, 1023, 1036, 1049, 1062, 1075, 1088, 1101, 1114, 1127, 1152, 1165, 1178, 1191, 1204, 1217, 1230, 1243, 1256, 1269, 1282, 1295, 1308, 1321, 1334, 1347, 1360, 1373, 1386, 1399, 1412, 1437, 1450, 1463, 1476, 1489, 1502, 1515, 1528, 1541, 1554, 1567, 1580, 1593, 1606, 1619, 1632, 1645, 1658, 1671, 1684, 1697, 1722, 1735, 1748, 1761, 1774, 1787, 1800, 1813, 1826, 1839, 1852, 1865, 1878, 1891, 1904, 1917, 1930, 1943, 1956, 1969, 1982]\n"
          ]
        }
      ]
    },
    {
      "cell_type": "code",
      "metadata": {
        "id": "UlSlzrqrPCf2"
      },
      "source": [
        "# Drop those rows\n",
        "\n",
        "data = data.drop(idx)"
      ],
      "execution_count": 18,
      "outputs": []
    },
    {
      "cell_type": "code",
      "metadata": {
        "colab": {
          "base_uri": "https://localhost:8080/"
        },
        "id": "yILB51h5SOKf",
        "outputId": "cfbfb5de-99cb-4229-fd72-0a788ae97b9f"
      },
      "source": [
        "print(\"Number of Rows and columns in Data after deleting wrong entries for month\", data.shape)\n",
        "\n",
        "# print(\"The unique values are:\", data['month'].unique())  # 'Summe' does not exist now"
      ],
      "execution_count": 19,
      "outputs": [
        {
          "output_type": "stream",
          "name": "stdout",
          "text": [
            "Number of Rows and columns in Data after deleting wrong entries for month (1848, 5)\n"
          ]
        }
      ]
    },
    {
      "cell_type": "code",
      "metadata": {
        "id": "RFaYVO54ZVUC"
      },
      "source": [
        "dps_data = data.copy()"
      ],
      "execution_count": 20,
      "outputs": []
    },
    {
      "cell_type": "code",
      "metadata": {
        "id": "FAKK2nyl-hPm"
      },
      "source": [
        "# Get the last two numbers for month, e.g. For the value 200007, get 07 as the new value for month column \n",
        "dps_data['month'] = dps_data['month'].str[-2:]"
      ],
      "execution_count": 21,
      "outputs": []
    },
    {
      "cell_type": "code",
      "metadata": {
        "colab": {
          "base_uri": "https://localhost:8080/",
          "height": 206
        },
        "id": "1SmYt0LG_j34",
        "outputId": "c6a3148c-4ac4-4e75-cfc2-a9c96b447e57"
      },
      "source": [
        "dps_data.head()"
      ],
      "execution_count": 22,
      "outputs": [
        {
          "output_type": "execute_result",
          "data": {
            "text/html": [
              "<div>\n",
              "<style scoped>\n",
              "    .dataframe tbody tr th:only-of-type {\n",
              "        vertical-align: middle;\n",
              "    }\n",
              "\n",
              "    .dataframe tbody tr th {\n",
              "        vertical-align: top;\n",
              "    }\n",
              "\n",
              "    .dataframe thead th {\n",
              "        text-align: right;\n",
              "    }\n",
              "</style>\n",
              "<table border=\"1\" class=\"dataframe\">\n",
              "  <thead>\n",
              "    <tr style=\"text-align: right;\">\n",
              "      <th></th>\n",
              "      <th>category</th>\n",
              "      <th>accident_type</th>\n",
              "      <th>year</th>\n",
              "      <th>month</th>\n",
              "      <th>value</th>\n",
              "    </tr>\n",
              "  </thead>\n",
              "  <tbody>\n",
              "    <tr>\n",
              "      <th>0</th>\n",
              "      <td>Alkoholunfälle</td>\n",
              "      <td>insgesamt</td>\n",
              "      <td>2021</td>\n",
              "      <td>01</td>\n",
              "      <td>NaN</td>\n",
              "    </tr>\n",
              "    <tr>\n",
              "      <th>1</th>\n",
              "      <td>Alkoholunfälle</td>\n",
              "      <td>insgesamt</td>\n",
              "      <td>2021</td>\n",
              "      <td>02</td>\n",
              "      <td>NaN</td>\n",
              "    </tr>\n",
              "    <tr>\n",
              "      <th>2</th>\n",
              "      <td>Alkoholunfälle</td>\n",
              "      <td>insgesamt</td>\n",
              "      <td>2021</td>\n",
              "      <td>03</td>\n",
              "      <td>NaN</td>\n",
              "    </tr>\n",
              "    <tr>\n",
              "      <th>3</th>\n",
              "      <td>Alkoholunfälle</td>\n",
              "      <td>insgesamt</td>\n",
              "      <td>2021</td>\n",
              "      <td>04</td>\n",
              "      <td>NaN</td>\n",
              "    </tr>\n",
              "    <tr>\n",
              "      <th>4</th>\n",
              "      <td>Alkoholunfälle</td>\n",
              "      <td>insgesamt</td>\n",
              "      <td>2021</td>\n",
              "      <td>05</td>\n",
              "      <td>NaN</td>\n",
              "    </tr>\n",
              "  </tbody>\n",
              "</table>\n",
              "</div>"
            ],
            "text/plain": [
              "         category accident_type  year month  value\n",
              "0  Alkoholunfälle     insgesamt  2021    01    NaN\n",
              "1  Alkoholunfälle     insgesamt  2021    02    NaN\n",
              "2  Alkoholunfälle     insgesamt  2021    03    NaN\n",
              "3  Alkoholunfälle     insgesamt  2021    04    NaN\n",
              "4  Alkoholunfälle     insgesamt  2021    05    NaN"
            ]
          },
          "metadata": {},
          "execution_count": 22
        }
      ]
    },
    {
      "cell_type": "markdown",
      "metadata": {
        "id": "f0cF1McAFcXJ"
      },
      "source": [
        "# Visualization"
      ]
    },
    {
      "cell_type": "code",
      "metadata": {
        "id": "TozPBNaHFbVY",
        "colab": {
          "base_uri": "https://localhost:8080/",
          "height": 402
        },
        "outputId": "fdfc0aca-c0e9-4c61-a851-cea9a7774531"
      },
      "source": [
        "# Size\n",
        "plt.figure(figsize=(12,6))\n",
        "\n",
        "# Style\n",
        "sns.set_style(\"dark\")\n",
        "\n",
        "# Bar chart showing number of accidents per category\n",
        "plot = sns.catplot(x=\"category\", kind=\"count\", palette=\"ch:.25\", data=dps_data)\n",
        "\n",
        "# Title\n",
        "plt.title('Number of accidents per category')\n",
        "\n",
        "# Save figure\n",
        "plot.savefig(\"plot.png\")"
      ],
      "execution_count": 23,
      "outputs": [
        {
          "output_type": "display_data",
          "data": {
            "text/plain": [
              "<Figure size 864x432 with 0 Axes>"
            ]
          },
          "metadata": {}
        },
        {
          "output_type": "display_data",
          "data": {
            "image/png": "[encoded data removed]",
            "text/plain": [
              "<Figure size 360x360 with 1 Axes>"
            ]
          },
          "metadata": {}
        }
      ]
    },
    {
      "cell_type": "markdown",
      "metadata": {
        "id": "a0Bfyg1WNm79"
      },
      "source": [
        "# Problem Statement\n",
        "\n",
        "The dataset currently contains values until the end of 2020. Create an application that forecasts the values for:\n",
        "\n",
        "- Category: 'Alkoholunfälle'\n",
        "- Type: 'insgesamt\n",
        "- Year: '2021'\n",
        "- Month: '01'\n",
        "\n",
        "We are predicting a numerical value. So its a Regression Task.\n",
        "\n",
        "\n",
        "\n"
      ]
    },
    {
      "cell_type": "code",
      "metadata": {
        "id": "jTvJV8v1O-ku",
        "colab": {
          "base_uri": "https://localhost:8080/"
        },
        "outputId": "3cfd79d0-ffde-43cf-fca6-928110deb86a"
      },
      "source": [
        "mode_for_value_col= dps_data['value'].mode()\n",
        "print(mode_for_value_col)\n",
        "\n",
        "# Choosing the second value (other two values can be used too)\n",
        "mode = mode_for_value_col[1]\n",
        "print(\"mode chosen:\", mode)"
      ],
      "execution_count": 24,
      "outputs": [
        {
          "output_type": "stream",
          "name": "stdout",
          "text": [
            "0    21.0\n",
            "1    27.0\n",
            "2    35.0\n",
            "dtype: float64\n",
            "mode chosen: 27.0\n"
          ]
        }
      ]
    },
    {
      "cell_type": "code",
      "metadata": {
        "id": "Yhj_M2AQQJL4"
      },
      "source": [
        "dps_data['value'].fillna(mode, inplace=True)"
      ],
      "execution_count": 25,
      "outputs": []
    },
    {
      "cell_type": "code",
      "metadata": {
        "colab": {
          "base_uri": "https://localhost:8080/",
          "height": 206
        },
        "id": "vDKmiHTyRX_a",
        "outputId": "b98088b0-28d4-4966-8309-2a52d747a326"
      },
      "source": [
        "# Check: missing values were filled\n",
        "dps_data.head()"
      ],
      "execution_count": 26,
      "outputs": [
        {
          "output_type": "execute_result",
          "data": {
            "text/html": [
              "<div>\n",
              "<style scoped>\n",
              "    .dataframe tbody tr th:only-of-type {\n",
              "        vertical-align: middle;\n",
              "    }\n",
              "\n",
              "    .dataframe tbody tr th {\n",
              "        vertical-align: top;\n",
              "    }\n",
              "\n",
              "    .dataframe thead th {\n",
              "        text-align: right;\n",
              "    }\n",
              "</style>\n",
              "<table border=\"1\" class=\"dataframe\">\n",
              "  <thead>\n",
              "    <tr style=\"text-align: right;\">\n",
              "      <th></th>\n",
              "      <th>category</th>\n",
              "      <th>accident_type</th>\n",
              "      <th>year</th>\n",
              "      <th>month</th>\n",
              "      <th>value</th>\n",
              "    </tr>\n",
              "  </thead>\n",
              "  <tbody>\n",
              "    <tr>\n",
              "      <th>0</th>\n",
              "      <td>Alkoholunfälle</td>\n",
              "      <td>insgesamt</td>\n",
              "      <td>2021</td>\n",
              "      <td>01</td>\n",
              "      <td>27.0</td>\n",
              "    </tr>\n",
              "    <tr>\n",
              "      <th>1</th>\n",
              "      <td>Alkoholunfälle</td>\n",
              "      <td>insgesamt</td>\n",
              "      <td>2021</td>\n",
              "      <td>02</td>\n",
              "      <td>27.0</td>\n",
              "    </tr>\n",
              "    <tr>\n",
              "      <th>2</th>\n",
              "      <td>Alkoholunfälle</td>\n",
              "      <td>insgesamt</td>\n",
              "      <td>2021</td>\n",
              "      <td>03</td>\n",
              "      <td>27.0</td>\n",
              "    </tr>\n",
              "    <tr>\n",
              "      <th>3</th>\n",
              "      <td>Alkoholunfälle</td>\n",
              "      <td>insgesamt</td>\n",
              "      <td>2021</td>\n",
              "      <td>04</td>\n",
              "      <td>27.0</td>\n",
              "    </tr>\n",
              "    <tr>\n",
              "      <th>4</th>\n",
              "      <td>Alkoholunfälle</td>\n",
              "      <td>insgesamt</td>\n",
              "      <td>2021</td>\n",
              "      <td>05</td>\n",
              "      <td>27.0</td>\n",
              "    </tr>\n",
              "  </tbody>\n",
              "</table>\n",
              "</div>"
            ],
            "text/plain": [
              "         category accident_type  year month  value\n",
              "0  Alkoholunfälle     insgesamt  2021    01   27.0\n",
              "1  Alkoholunfälle     insgesamt  2021    02   27.0\n",
              "2  Alkoholunfälle     insgesamt  2021    03   27.0\n",
              "3  Alkoholunfälle     insgesamt  2021    04   27.0\n",
              "4  Alkoholunfälle     insgesamt  2021    05   27.0"
            ]
          },
          "metadata": {},
          "execution_count": 26
        }
      ]
    },
    {
      "cell_type": "code",
      "metadata": {
        "colab": {
          "base_uri": "https://localhost:8080/",
          "height": 206
        },
        "id": "i0hp3BCAWiSH",
        "outputId": "a94b4fed-ad48-47f3-f593-910959767b78"
      },
      "source": [
        "final_df = dps_data.copy()\n",
        "final_df.head()"
      ],
      "execution_count": 27,
      "outputs": [
        {
          "output_type": "execute_result",
          "data": {
            "text/html": [
              "<div>\n",
              "<style scoped>\n",
              "    .dataframe tbody tr th:only-of-type {\n",
              "        vertical-align: middle;\n",
              "    }\n",
              "\n",
              "    .dataframe tbody tr th {\n",
              "        vertical-align: top;\n",
              "    }\n",
              "\n",
              "    .dataframe thead th {\n",
              "        text-align: right;\n",
              "    }\n",
              "</style>\n",
              "<table border=\"1\" class=\"dataframe\">\n",
              "  <thead>\n",
              "    <tr style=\"text-align: right;\">\n",
              "      <th></th>\n",
              "      <th>category</th>\n",
              "      <th>accident_type</th>\n",
              "      <th>year</th>\n",
              "      <th>month</th>\n",
              "      <th>value</th>\n",
              "    </tr>\n",
              "  </thead>\n",
              "  <tbody>\n",
              "    <tr>\n",
              "      <th>0</th>\n",
              "      <td>Alkoholunfälle</td>\n",
              "      <td>insgesamt</td>\n",
              "      <td>2021</td>\n",
              "      <td>01</td>\n",
              "      <td>27.0</td>\n",
              "    </tr>\n",
              "    <tr>\n",
              "      <th>1</th>\n",
              "      <td>Alkoholunfälle</td>\n",
              "      <td>insgesamt</td>\n",
              "      <td>2021</td>\n",
              "      <td>02</td>\n",
              "      <td>27.0</td>\n",
              "    </tr>\n",
              "    <tr>\n",
              "      <th>2</th>\n",
              "      <td>Alkoholunfälle</td>\n",
              "      <td>insgesamt</td>\n",
              "      <td>2021</td>\n",
              "      <td>03</td>\n",
              "      <td>27.0</td>\n",
              "    </tr>\n",
              "    <tr>\n",
              "      <th>3</th>\n",
              "      <td>Alkoholunfälle</td>\n",
              "      <td>insgesamt</td>\n",
              "      <td>2021</td>\n",
              "      <td>04</td>\n",
              "      <td>27.0</td>\n",
              "    </tr>\n",
              "    <tr>\n",
              "      <th>4</th>\n",
              "      <td>Alkoholunfälle</td>\n",
              "      <td>insgesamt</td>\n",
              "      <td>2021</td>\n",
              "      <td>05</td>\n",
              "      <td>27.0</td>\n",
              "    </tr>\n",
              "  </tbody>\n",
              "</table>\n",
              "</div>"
            ],
            "text/plain": [
              "         category accident_type  year month  value\n",
              "0  Alkoholunfälle     insgesamt  2021    01   27.0\n",
              "1  Alkoholunfälle     insgesamt  2021    02   27.0\n",
              "2  Alkoholunfälle     insgesamt  2021    03   27.0\n",
              "3  Alkoholunfälle     insgesamt  2021    04   27.0\n",
              "4  Alkoholunfälle     insgesamt  2021    05   27.0"
            ]
          },
          "metadata": {},
          "execution_count": 27
        }
      ]
    },
    {
      "cell_type": "code",
      "metadata": {
        "id": "TZvRYEXsw1Wo"
      },
      "source": [
        "final_df['month'] = final_df['month'].astype('int64')"
      ],
      "execution_count": 28,
      "outputs": []
    },
    {
      "cell_type": "code",
      "metadata": {
        "colab": {
          "base_uri": "https://localhost:8080/"
        },
        "id": "3tidXAMsxALV",
        "outputId": "f1a794db-af34-484b-e584-b98b8cd914ce"
      },
      "source": [
        "final_df.info()"
      ],
      "execution_count": 29,
      "outputs": [
        {
          "output_type": "stream",
          "name": "stdout",
          "text": [
            "<class 'pandas.core.frame.DataFrame'>\n",
            "Int64Index: 1848 entries, 0 to 1994\n",
            "Data columns (total 5 columns):\n",
            " #   Column         Non-Null Count  Dtype  \n",
            "---  ------         --------------  -----  \n",
            " 0   category       1848 non-null   object \n",
            " 1   accident_type  1848 non-null   object \n",
            " 2   year           1848 non-null   int64  \n",
            " 3   month          1848 non-null   int64  \n",
            " 4   value          1848 non-null   float64\n",
            "dtypes: float64(1), int64(2), object(2)\n",
            "memory usage: 166.6+ KB\n"
          ]
        }
      ]
    },
    {
      "cell_type": "code",
      "metadata": {
        "colab": {
          "base_uri": "https://localhost:8080/",
          "height": 206
        },
        "id": "YMnE_YDXxDXq",
        "outputId": "5dc0ec36-85d2-46c2-f471-42e8ba72d598"
      },
      "source": [
        "final_df.head()"
      ],
      "execution_count": 30,
      "outputs": [
        {
          "output_type": "execute_result",
          "data": {
            "text/html": [
              "<div>\n",
              "<style scoped>\n",
              "    .dataframe tbody tr th:only-of-type {\n",
              "        vertical-align: middle;\n",
              "    }\n",
              "\n",
              "    .dataframe tbody tr th {\n",
              "        vertical-align: top;\n",
              "    }\n",
              "\n",
              "    .dataframe thead th {\n",
              "        text-align: right;\n",
              "    }\n",
              "</style>\n",
              "<table border=\"1\" class=\"dataframe\">\n",
              "  <thead>\n",
              "    <tr style=\"text-align: right;\">\n",
              "      <th></th>\n",
              "      <th>category</th>\n",
              "      <th>accident_type</th>\n",
              "      <th>year</th>\n",
              "      <th>month</th>\n",
              "      <th>value</th>\n",
              "    </tr>\n",
              "  </thead>\n",
              "  <tbody>\n",
              "    <tr>\n",
              "      <th>0</th>\n",
              "      <td>Alkoholunfälle</td>\n",
              "      <td>insgesamt</td>\n",
              "      <td>2021</td>\n",
              "      <td>1</td>\n",
              "      <td>27.0</td>\n",
              "    </tr>\n",
              "    <tr>\n",
              "      <th>1</th>\n",
              "      <td>Alkoholunfälle</td>\n",
              "      <td>insgesamt</td>\n",
              "      <td>2021</td>\n",
              "      <td>2</td>\n",
              "      <td>27.0</td>\n",
              "    </tr>\n",
              "    <tr>\n",
              "      <th>2</th>\n",
              "      <td>Alkoholunfälle</td>\n",
              "      <td>insgesamt</td>\n",
              "      <td>2021</td>\n",
              "      <td>3</td>\n",
              "      <td>27.0</td>\n",
              "    </tr>\n",
              "    <tr>\n",
              "      <th>3</th>\n",
              "      <td>Alkoholunfälle</td>\n",
              "      <td>insgesamt</td>\n",
              "      <td>2021</td>\n",
              "      <td>4</td>\n",
              "      <td>27.0</td>\n",
              "    </tr>\n",
              "    <tr>\n",
              "      <th>4</th>\n",
              "      <td>Alkoholunfälle</td>\n",
              "      <td>insgesamt</td>\n",
              "      <td>2021</td>\n",
              "      <td>5</td>\n",
              "      <td>27.0</td>\n",
              "    </tr>\n",
              "  </tbody>\n",
              "</table>\n",
              "</div>"
            ],
            "text/plain": [
              "         category accident_type  year  month  value\n",
              "0  Alkoholunfälle     insgesamt  2021      1   27.0\n",
              "1  Alkoholunfälle     insgesamt  2021      2   27.0\n",
              "2  Alkoholunfälle     insgesamt  2021      3   27.0\n",
              "3  Alkoholunfälle     insgesamt  2021      4   27.0\n",
              "4  Alkoholunfälle     insgesamt  2021      5   27.0"
            ]
          },
          "metadata": {},
          "execution_count": 30
        }
      ]
    },
    {
      "cell_type": "code",
      "metadata": {
        "id": "9k20YCb0NmiD"
      },
      "source": [
        "# Selecting the Prediction Target\n",
        "y = final_df.value"
      ],
      "execution_count": 31,
      "outputs": []
    },
    {
      "cell_type": "code",
      "metadata": {
        "colab": {
          "base_uri": "https://localhost:8080/",
          "height": 206
        },
        "id": "XdulgshHO6B_",
        "outputId": "338af8db-b730-47ff-e732-985869be4cf2"
      },
      "source": [
        "# Select Features\n",
        "\n",
        "features = ['category', 'accident_type', 'month', 'year']\n",
        "\n",
        "X = final_df[features]\n",
        "X.head()"
      ],
      "execution_count": 32,
      "outputs": [
        {
          "output_type": "execute_result",
          "data": {
            "text/html": [
              "<div>\n",
              "<style scoped>\n",
              "    .dataframe tbody tr th:only-of-type {\n",
              "        vertical-align: middle;\n",
              "    }\n",
              "\n",
              "    .dataframe tbody tr th {\n",
              "        vertical-align: top;\n",
              "    }\n",
              "\n",
              "    .dataframe thead th {\n",
              "        text-align: right;\n",
              "    }\n",
              "</style>\n",
              "<table border=\"1\" class=\"dataframe\">\n",
              "  <thead>\n",
              "    <tr style=\"text-align: right;\">\n",
              "      <th></th>\n",
              "      <th>category</th>\n",
              "      <th>accident_type</th>\n",
              "      <th>month</th>\n",
              "      <th>year</th>\n",
              "    </tr>\n",
              "  </thead>\n",
              "  <tbody>\n",
              "    <tr>\n",
              "      <th>0</th>\n",
              "      <td>Alkoholunfälle</td>\n",
              "      <td>insgesamt</td>\n",
              "      <td>1</td>\n",
              "      <td>2021</td>\n",
              "    </tr>\n",
              "    <tr>\n",
              "      <th>1</th>\n",
              "      <td>Alkoholunfälle</td>\n",
              "      <td>insgesamt</td>\n",
              "      <td>2</td>\n",
              "      <td>2021</td>\n",
              "    </tr>\n",
              "    <tr>\n",
              "      <th>2</th>\n",
              "      <td>Alkoholunfälle</td>\n",
              "      <td>insgesamt</td>\n",
              "      <td>3</td>\n",
              "      <td>2021</td>\n",
              "    </tr>\n",
              "    <tr>\n",
              "      <th>3</th>\n",
              "      <td>Alkoholunfälle</td>\n",
              "      <td>insgesamt</td>\n",
              "      <td>4</td>\n",
              "      <td>2021</td>\n",
              "    </tr>\n",
              "    <tr>\n",
              "      <th>4</th>\n",
              "      <td>Alkoholunfälle</td>\n",
              "      <td>insgesamt</td>\n",
              "      <td>5</td>\n",
              "      <td>2021</td>\n",
              "    </tr>\n",
              "  </tbody>\n",
              "</table>\n",
              "</div>"
            ],
            "text/plain": [
              "         category accident_type  month  year\n",
              "0  Alkoholunfälle     insgesamt      1  2021\n",
              "1  Alkoholunfälle     insgesamt      2  2021\n",
              "2  Alkoholunfälle     insgesamt      3  2021\n",
              "3  Alkoholunfälle     insgesamt      4  2021\n",
              "4  Alkoholunfälle     insgesamt      5  2021"
            ]
          },
          "metadata": {},
          "execution_count": 32
        }
      ]
    },
    {
      "cell_type": "code",
      "metadata": {
        "id": "bMeYF92gcO9Y"
      },
      "source": [
        "from sklearn.model_selection import train_test_split\n",
        "\n",
        "X_train, val_X,  y_train, val_y = train_test_split(X, y, train_size=0.8, test_size=0.2, random_state=0)"
      ],
      "execution_count": 33,
      "outputs": []
    },
    {
      "cell_type": "code",
      "metadata": {
        "colab": {
          "base_uri": "https://localhost:8080/"
        },
        "id": "LilCQKsbYc7F",
        "outputId": "01f479e8-0bbc-420e-e0a1-7ef58ae11fd5"
      },
      "source": [
        "# Get list of categorical variables\n",
        "s = (X_train.dtypes == 'object')\n",
        "object_cols = list(s[s].index)\n",
        "\n",
        "print(\"Categorical variables:\")\n",
        "print(object_cols)"
      ],
      "execution_count": 34,
      "outputs": [
        {
          "output_type": "stream",
          "name": "stdout",
          "text": [
            "Categorical variables:\n",
            "['category', 'accident_type']\n"
          ]
        }
      ]
    },
    {
      "cell_type": "code",
      "metadata": {
        "id": "R8iktneL4u_8"
      },
      "source": [
        "from sklearn.preprocessing import OneHotEncoder\n",
        "\n",
        "OH_encoder = OneHotEncoder(handle_unknown='ignore', sparse=False)\n",
        "OH_cols_train = pd.DataFrame(OH_encoder.fit_transform(X_train[object_cols]))\n",
        "OH_cols_valid = pd.DataFrame(OH_encoder.transform(val_X[object_cols]))\n",
        "\n",
        "# One-hot encoding removed index; put it back\n",
        "OH_cols_train.index = X_train.index\n",
        "OH_cols_valid.index = val_X.index\n",
        "\n",
        "# Remove categorical columns (will replace with one-hot encoding)\n",
        "num_X_train = X_train.drop(object_cols, axis=1)\n",
        "num_X_valid = val_X.drop(object_cols, axis=1)\n",
        "\n",
        "# Add one-hot encoded columns to numerical features\n",
        "OH_X_train = pd.concat([num_X_train, OH_cols_train], axis=1)\n",
        "OH_val_X= pd.concat([num_X_valid, OH_cols_valid], axis=1)"
      ],
      "execution_count": 35,
      "outputs": []
    },
    {
      "cell_type": "code",
      "metadata": {
        "colab": {
          "base_uri": "https://localhost:8080/"
        },
        "id": "2FMbE7ku7sIq",
        "outputId": "6558edd3-18a8-4471-bfd5-a370e1c43edc"
      },
      "source": [
        "OH_X_train.shape, OH_val_X.shape"
      ],
      "execution_count": 36,
      "outputs": [
        {
          "output_type": "execute_result",
          "data": {
            "text/plain": [
              "((1478, 8), (370, 8))"
            ]
          },
          "metadata": {},
          "execution_count": 36
        }
      ]
    },
    {
      "cell_type": "code",
      "metadata": {
        "colab": {
          "base_uri": "https://localhost:8080/"
        },
        "id": "39_4MlLge5xJ",
        "outputId": "8bbf606d-4fc5-4eaf-8d57-0426828a77d2"
      },
      "source": [
        "from sklearn.tree import DecisionTreeRegressor\n",
        "\n",
        "# Define model\n",
        "dps_model = DecisionTreeRegressor(random_state=1)\n",
        "\n",
        "# Fit model\n",
        "dps_model.fit(OH_X_train,y_train)"
      ],
      "execution_count": 37,
      "outputs": [
        {
          "output_type": "stream",
          "name": "stderr",
          "text": [
            "/usr/local/lib/python3.7/dist-packages/sklearn/utils/validation.py:1679: FutureWarning: Feature names only support names that are all strings. Got feature names with dtypes: ['int', 'str']. An error will be raised in 1.2.\n",
            "  FutureWarning,\n"
          ]
        },
        {
          "output_type": "execute_result",
          "data": {
            "text/plain": [
              "DecisionTreeRegressor(random_state=1)"
            ]
          },
          "metadata": {},
          "execution_count": 37
        }
      ]
    },
    {
      "cell_type": "code",
      "metadata": {
        "colab": {
          "base_uri": "https://localhost:8080/"
        },
        "id": "KOfVc0oM8XLx",
        "outputId": "b5e70b43-e16f-4b64-d859-9b26ddabefb5"
      },
      "source": [
        "from sklearn.metrics import mean_absolute_error\n",
        "\n",
        "predicted_values = dps_model.predict(OH_val_X)\n",
        "mean_absolute_error(val_y, predicted_values)"
      ],
      "execution_count": 38,
      "outputs": [
        {
          "output_type": "stream",
          "name": "stderr",
          "text": [
            "/usr/local/lib/python3.7/dist-packages/sklearn/utils/validation.py:1679: FutureWarning: Feature names only support names that are all strings. Got feature names with dtypes: ['int', 'str']. An error will be raised in 1.2.\n",
            "  FutureWarning,\n"
          ]
        },
        {
          "output_type": "execute_result",
          "data": {
            "text/plain": [
              "74.6"
            ]
          },
          "metadata": {},
          "execution_count": 38
        }
      ]
    },
    {
      "cell_type": "code",
      "metadata": {
        "colab": {
          "base_uri": "https://localhost:8080/"
        },
        "id": "zIA_3Yx47_Fn",
        "outputId": "b2ce2bf2-ccd3-4c46-d14a-524bf2089cbb"
      },
      "source": [
        "print(\"Making predictions:\")\n",
        "print(OH_val_X.head())\n",
        "print(\"The predictions are\")\n",
        "print(dps_model.predict(OH_val_X.head()))"
      ],
      "execution_count": 39,
      "outputs": [
        {
          "output_type": "stream",
          "name": "stdout",
          "text": [
            "Making predictions:\n",
            "      month  year    0    1    2    3    4    5\n",
            "1781      7  2016  0.0  0.0  1.0  1.0  0.0  0.0\n",
            "1322      1  2007  0.0  0.0  1.0  0.0  1.0  0.0\n",
            "1712      3  2021  0.0  0.0  1.0  1.0  0.0  0.0\n",
            "1647      2  2004  0.0  0.0  1.0  0.0  0.0  1.0\n",
            "19        7  2020  1.0  0.0  0.0  0.0  1.0  0.0\n",
            "The predictions are\n",
            "[ 809. 2893.   27.  232.   51.]\n"
          ]
        },
        {
          "output_type": "stream",
          "name": "stderr",
          "text": [
            "/usr/local/lib/python3.7/dist-packages/sklearn/utils/validation.py:1679: FutureWarning: Feature names only support names that are all strings. Got feature names with dtypes: ['int', 'str']. An error will be raised in 1.2.\n",
            "  FutureWarning,\n"
          ]
        }
      ]
    },
    {
      "cell_type": "code",
      "metadata": {
        "colab": {
          "base_uri": "https://localhost:8080/"
        },
        "id": "K6qZhoGX9dFf",
        "outputId": "062eceff-76d1-48cf-f12d-f9e7a75d838a"
      },
      "source": [
        "val_y.head()"
      ],
      "execution_count": 40,
      "outputs": [
        {
          "output_type": "execute_result",
          "data": {
            "text/plain": [
              "1781     742.0\n",
              "1322    2735.0\n",
              "1712      27.0\n",
              "1647     240.0\n",
              "19        58.0\n",
              "Name: value, dtype: float64"
            ]
          },
          "metadata": {},
          "execution_count": 40
        }
      ]
    },
    {
      "cell_type": "code",
      "metadata": {
        "colab": {
          "base_uri": "https://localhost:8080/"
        },
        "id": "Dam07nVZPvxX",
        "outputId": "989546fe-feb4-47f4-eff1-6c8477482169"
      },
      "source": [
        "!pwd"
      ],
      "execution_count": 41,
      "outputs": [
        {
          "output_type": "stream",
          "name": "stdout",
          "text": [
            "/content\n"
          ]
        }
      ]
    },
    {
      "cell_type": "markdown",
      "metadata": {
        "id": "58qqDb_LQI4p"
      },
      "source": [
        "# Saving the Model"
      ]
    },
    {
      "cell_type": "code",
      "metadata": {
        "id": "H_iia1F4Pov3"
      },
      "source": [
        "pkl_filename = \"/content/dps_model.pkl\"\n",
        "\n",
        "with open(pkl_filename, \"wb\") as file:\n",
        "  pickle.dump(dps_model, file)"
      ],
      "execution_count": 44,
      "outputs": []
    },
    {
      "cell_type": "markdown",
      "metadata": {
        "id": "jWXkNY--LlJK"
      },
      "source": [
        "# Loading the Model"
      ]
    },
    {
      "cell_type": "code",
      "metadata": {
        "id": "lBQw1kW3LkuH"
      },
      "source": [
        "with open(pkl_filename, \"rb\") as file:\n",
        "  pickle.load(file)"
      ],
      "execution_count": 46,
      "outputs": []
    },
    {
      "cell_type": "code",
      "metadata": {
        "colab": {
          "base_uri": "https://localhost:8080/"
        },
        "id": "S4RyDlESMmn0",
        "outputId": "c32bdf07-3d5e-4a19-bfd3-24666836ea38"
      },
      "source": [
        "dps_model"
      ],
      "execution_count": 48,
      "outputs": [
        {
          "output_type": "execute_result",
          "data": {
            "text/plain": [
              "DecisionTreeRegressor(random_state=1)"
            ]
          },
          "metadata": {},
          "execution_count": 48
        }
      ]
    }
  ]
}