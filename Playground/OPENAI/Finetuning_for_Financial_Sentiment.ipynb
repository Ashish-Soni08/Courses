{
  "cells": [
    {
      "cell_type": "markdown",
      "metadata": {
        "id": "view-in-github",
        "colab_type": "text"
      },
      "source": [
        "<a href=\"https://colab.research.google.com/github/Ashish-Soni08/Courses/blob/main/Playground/OPENAI/Finetuning_for_Financial_Sentiment.ipynb\" target=\"_parent\"><img src=\"https://colab.research.google.com/assets/colab-badge.svg\" alt=\"Open In Colab\"/></a>"
      ]
    },
    {
      "cell_type": "markdown",
      "id": "7bcdad0e-b67c-4927-b00e-3a4d950cd8ce",
      "metadata": {
        "id": "7bcdad0e-b67c-4927-b00e-3a4d950cd8ce"
      },
      "source": [
        "# Fine-tuning GPT4o mini for sentiment prediction\n",
        "\n",
        "Fine-tuning improves the model by training on many more examples than can fit in a prompt, letting you achieve better results on a wide number of tasks. This notebook provides a step-by-step guide for our new GPT-4o mini fine-tuning. We'll perform entity extraction using the [RecipeNLG dataset](https://github.com/Glorf/recipenlg), which provides various recipes and a list of extracted generic ingredients for each. This is a common dataset for named entity recognition (NER) tasks.\n",
        "\n",
        "Note: **GPT-4o mini fine-tuning is available to developers in our [Tier 4 and 5 usage tiers](https://platform.openai.com/docs/guides/rate-limits/usage-tiers).** You can start fine-tuning GPT-4o mini by visiting your fine-tuning dashboard, clicking \"create\", and selecting “gpt-4o-mini-2024-07-18” from the base model drop-down.\n",
        "\n",
        "We will go through the following steps:\n",
        "\n",
        "1. **Setup:** Loading our dataset and filtering down to one domain to fine-tune on.\n",
        "2. **Data preparation:** Preparing your data for fine-tuning by creating training and validation examples, and uploading them to the `Files` endpoint.\n",
        "3. **Fine-tuning:** Creating your fine-tuned model.\n",
        "4. **Inference:** Using your fine-tuned model for inference on new inputs.\n",
        "\n",
        "By the end of this you should be able to train, evaluate and deploy a fine-tuned `gpt-4o-mini-2024-07-18` model.\n",
        "\n",
        "For more information on fine-tuning, you can refer to our [documentation guide](https://platform.openai.com/docs/guides/fine-tuning) or [API reference](https://platform.openai.com/docs/api-reference/fine-tuning).\n"
      ]
    },
    {
      "cell_type": "markdown",
      "id": "6f49cb10-f895-41f4-aa97-da606d0084d4",
      "metadata": {
        "id": "6f49cb10-f895-41f4-aa97-da606d0084d4"
      },
      "source": [
        "## Setup\n"
      ]
    },
    {
      "cell_type": "code",
      "execution_count": 1,
      "id": "32036e70",
      "metadata": {
        "colab": {
          "base_uri": "https://localhost:8080/"
        },
        "id": "32036e70",
        "outputId": "b796a1cc-c183-4c68-f5c4-23ab6dd1b312"
      },
      "outputs": [
        {
          "output_type": "stream",
          "name": "stdout",
          "text": [
            "\u001b[2K     \u001b[90m━━━━━━━━━━━━━━━━━━━━━━━━━━━━━━━━━━━━━━━━\u001b[0m \u001b[32m608.9/608.9 kB\u001b[0m \u001b[31m2.6 MB/s\u001b[0m eta \u001b[36m0:00:00\u001b[0m\n",
            "\u001b[?25h  Installing build dependencies ... \u001b[?25l\u001b[?25hdone\n",
            "  Getting requirements to build wheel ... \u001b[?25l\u001b[?25hdone\n",
            "  Preparing metadata (pyproject.toml) ... \u001b[?25l\u001b[?25hdone\n",
            "\u001b[2K   \u001b[90m━━━━━━━━━━━━━━━━━━━━━━━━━━━━━━━━━━━━━━━━\u001b[0m \u001b[32m16.8/16.8 MB\u001b[0m \u001b[31m59.6 MB/s\u001b[0m eta \u001b[36m0:00:00\u001b[0m\n",
            "\u001b[2K   \u001b[90m━━━━━━━━━━━━━━━━━━━━━━━━━━━━━━━━━━━━━━━━\u001b[0m \u001b[32m362.9/362.9 kB\u001b[0m \u001b[31m22.9 MB/s\u001b[0m eta \u001b[36m0:00:00\u001b[0m\n",
            "\u001b[2K   \u001b[90m━━━━━━━━━━━━━━━━━━━━━━━━━━━━━━━━━━━━━━━━\u001b[0m \u001b[32m76.9/76.9 kB\u001b[0m \u001b[31m5.3 MB/s\u001b[0m eta \u001b[36m0:00:00\u001b[0m\n",
            "\u001b[2K   \u001b[90m━━━━━━━━━━━━━━━━━━━━━━━━━━━━━━━━━━━━━━━━\u001b[0m \u001b[32m139.2/139.2 kB\u001b[0m \u001b[31m9.6 MB/s\u001b[0m eta \u001b[36m0:00:00\u001b[0m\n",
            "\u001b[2K   \u001b[90m━━━━━━━━━━━━━━━━━━━━━━━━━━━━━━━━━━━━━━━━\u001b[0m \u001b[32m75.6/75.6 kB\u001b[0m \u001b[31m5.6 MB/s\u001b[0m eta \u001b[36m0:00:00\u001b[0m\n",
            "\u001b[2K   \u001b[90m━━━━━━━━━━━━━━━━━━━━━━━━━━━━━━━━━━━━━━━━\u001b[0m \u001b[32m77.9/77.9 kB\u001b[0m \u001b[31m5.5 MB/s\u001b[0m eta \u001b[36m0:00:00\u001b[0m\n",
            "\u001b[2K   \u001b[90m━━━━━━━━━━━━━━━━━━━━━━━━━━━━━━━━━━━━━━━━\u001b[0m \u001b[32m318.9/318.9 kB\u001b[0m \u001b[31m18.9 MB/s\u001b[0m eta \u001b[36m0:00:00\u001b[0m\n",
            "\u001b[2K   \u001b[90m━━━━━━━━━━━━━━━━━━━━━━━━━━━━━━━━━━━━━━━━\u001b[0m \u001b[32m4.5/4.5 MB\u001b[0m \u001b[31m51.3 MB/s\u001b[0m eta \u001b[36m0:00:00\u001b[0m\n",
            "\u001b[2K   \u001b[90m━━━━━━━━━━━━━━━━━━━━━━━━━━━━━━━━━━━━━━━━\u001b[0m \u001b[32m1.3/1.3 MB\u001b[0m \u001b[31m50.7 MB/s\u001b[0m eta \u001b[36m0:00:00\u001b[0m\n",
            "\u001b[2K   \u001b[90m━━━━━━━━━━━━━━━━━━━━━━━━━━━━━━━━━━━━━━━━\u001b[0m \u001b[32m82.1/82.1 kB\u001b[0m \u001b[31m5.4 MB/s\u001b[0m eta \u001b[36m0:00:00\u001b[0m\n",
            "\u001b[2K   \u001b[90m━━━━━━━━━━━━━━━━━━━━━━━━━━━━━━━━━━━━━━━━\u001b[0m \u001b[32m12.3/12.3 MB\u001b[0m \u001b[31m58.4 MB/s\u001b[0m eta \u001b[36m0:00:00\u001b[0m\n",
            "\u001b[2K   \u001b[90m━━━━━━━━━━━━━━━━━━━━━━━━━━━━━━━━━━━━━━━━\u001b[0m \u001b[32m116.3/116.3 kB\u001b[0m \u001b[31m8.0 MB/s\u001b[0m eta \u001b[36m0:00:00\u001b[0m\n",
            "\u001b[2K   \u001b[90m━━━━━━━━━━━━━━━━━━━━━━━━━━━━━━━━━━━━━━━━\u001b[0m \u001b[32m134.8/134.8 kB\u001b[0m \u001b[31m9.2 MB/s\u001b[0m eta \u001b[36m0:00:00\u001b[0m\n",
            "\u001b[2K   \u001b[90m━━━━━━━━━━━━━━━━━━━━━━━━━━━━━━━━━━━━━━━━\u001b[0m \u001b[32m56.8/56.8 kB\u001b[0m \u001b[31m4.0 MB/s\u001b[0m eta \u001b[36m0:00:00\u001b[0m\n",
            "\u001b[2K   \u001b[90m━━━━━━━━━━━━━━━━━━━━━━━━━━━━━━━━━━━━━━━━\u001b[0m \u001b[32m82.7/82.7 kB\u001b[0m \u001b[31m5.9 MB/s\u001b[0m eta \u001b[36m0:00:00\u001b[0m\n",
            "\u001b[2K   \u001b[90m━━━━━━━━━━━━━━━━━━━━━━━━━━━━━━━━━━━━━━━━\u001b[0m \u001b[32m58.3/58.3 kB\u001b[0m \u001b[31m3.8 MB/s\u001b[0m eta \u001b[36m0:00:00\u001b[0m\n",
            "\u001b[?25h  Building wheel for deeplake (pyproject.toml) ... \u001b[?25l\u001b[?25hdone\n"
          ]
        }
      ],
      "source": [
        "!pip install --upgrade --quiet deeplake openai"
      ]
    },
    {
      "cell_type": "code",
      "source": [
        "import deeplake as dl\n",
        "from google.colab import userdata\n",
        "import json\n",
        "import openai\n",
        "import os\n",
        "import pandas as pd\n",
        "from pprint import pprint"
      ],
      "metadata": {
        "id": "5mOTKAF62MYd"
      },
      "id": "5mOTKAF62MYd",
      "execution_count": 2,
      "outputs": []
    },
    {
      "cell_type": "code",
      "execution_count": 3,
      "id": "6e1f4403-37e1-4115-a215-12fd7daa1eb6",
      "metadata": {
        "id": "6e1f4403-37e1-4115-a215-12fd7daa1eb6"
      },
      "outputs": [],
      "source": [
        "# Connect to OpenAI\n",
        "client = openai.OpenAI(\n",
        "    api_key=userdata.get('OPENAI_API_KEY'),\n",
        "    organization=userdata.get('ORG_ID'),\n",
        "    project=userdata.get('PROJECT_ID'),\n",
        ")"
      ]
    },
    {
      "cell_type": "markdown",
      "id": "a468d660",
      "metadata": {
        "id": "a468d660"
      },
      "source": [
        "Fine-tuning works best when focused on a particular domain. It's important to make sure your dataset is both focused enough for the model to learn, but general enough that unseen examples won't be missed. Having this in mind, we have extracted a subset from the RecipesNLG dataset to only contain documents from [cookbooks.com](https://cookbooks.com/).\n"
      ]
    },
    {
      "cell_type": "markdown",
      "source": [
        "# Dataset"
      ],
      "metadata": {
        "id": "7lt6ae732-RX"
      },
      "id": "7lt6ae732-RX"
    },
    {
      "cell_type": "code",
      "execution_count": 4,
      "id": "f57ebc23-14b7-47f9-90b8-1d791ccfc9bc",
      "metadata": {
        "id": "f57ebc23-14b7-47f9-90b8-1d791ccfc9bc"
      },
      "outputs": [],
      "source": [
        "DEEPLAKE_API_KEY = userdata.get('deeplake_api')"
      ]
    },
    {
      "cell_type": "markdown",
      "source": [
        "## Training Data"
      ],
      "metadata": {
        "id": "Gc8J4FF54t-l"
      },
      "id": "Gc8J4FF54t-l"
    },
    {
      "cell_type": "code",
      "source": [
        "training_data = dl.load('hub://genai360/FingGPT-sentiment-train-set', token=DEEPLAKE_API_KEY)"
      ],
      "metadata": {
        "colab": {
          "base_uri": "https://localhost:8080/"
        },
        "id": "SsUZRxdN3Z3W",
        "outputId": "98fbcc3b-b3f4-4fb9-809f-6c8054a0e734"
      },
      "id": "SsUZRxdN3Z3W",
      "execution_count": 5,
      "outputs": [
        {
          "output_type": "stream",
          "name": "stderr",
          "text": [
            "|"
          ]
        },
        {
          "output_type": "stream",
          "name": "stdout",
          "text": [
            "Opening dataset in read-only mode as you don't have write permissions.\n"
          ]
        },
        {
          "output_type": "stream",
          "name": "stderr",
          "text": [
            "\\"
          ]
        },
        {
          "output_type": "stream",
          "name": "stdout",
          "text": [
            "This dataset can be visualized in Jupyter Notebook by ds.visualize() or at https://app.activeloop.ai/genai360/FingGPT-sentiment-train-set\n",
            "\n"
          ]
        },
        {
          "output_type": "stream",
          "name": "stderr",
          "text": [
            "/"
          ]
        },
        {
          "output_type": "stream",
          "name": "stdout",
          "text": [
            "hub://genai360/FingGPT-sentiment-train-set loaded successfully.\n",
            "\n"
          ]
        },
        {
          "output_type": "stream",
          "name": "stderr",
          "text": [
            "\r \r\r\r"
          ]
        }
      ]
    },
    {
      "cell_type": "code",
      "source": [
        "pprint(training_data)"
      ],
      "metadata": {
        "colab": {
          "base_uri": "https://localhost:8080/"
        },
        "id": "P3ZvjKmh3wYM",
        "outputId": "3d611d99-0e80-4320-a5a5-4a2eb008e909"
      },
      "id": "P3ZvjKmh3wYM",
      "execution_count": 7,
      "outputs": [
        {
          "output_type": "stream",
          "name": "stdout",
          "text": [
            "Dataset(path='hub://genai360/FingGPT-sentiment-train-set', read_only=True, tensors=['input', 'instruction', 'output'])\n"
          ]
        }
      ]
    },
    {
      "cell_type": "code",
      "source": [
        "training_data.summary()"
      ],
      "metadata": {
        "colab": {
          "base_uri": "https://localhost:8080/"
        },
        "id": "__BnPBf839FY",
        "outputId": "2c157462-ad0b-43a6-9039-6da251059af5"
      },
      "id": "__BnPBf839FY",
      "execution_count": 10,
      "outputs": [
        {
          "output_type": "stream",
          "name": "stdout",
          "text": [
            "Dataset(path='hub://genai360/FingGPT-sentiment-train-set', read_only=True, tensors=['input', 'instruction', 'output'])\n",
            "\n",
            "   tensor      htype     shape      dtype  compression\n",
            "   -------    -------   -------    -------  ------- \n",
            "    input      text    (20000, 1)    str     None   \n",
            " instruction   text    (20000, 1)    str     None   \n",
            "   output      text    (20000, 1)    str     None   \n"
          ]
        }
      ]
    },
    {
      "cell_type": "code",
      "source": [
        "row = [training_data.input[0].numpy(), training_data.instruction[0].numpy(), training_data.output[0].numpy()]\n",
        "print(\"A sample of data from the training set:\")\n",
        "print(\"-\" * 100)\n",
        "pprint(row)\n",
        "print(\"-\" * 100)"
      ],
      "metadata": {
        "colab": {
          "base_uri": "https://localhost:8080/"
        },
        "id": "lKCk_ScG4w1G",
        "outputId": "dd3c900a-0712-4f56-bf98-c827d64ca8a7"
      },
      "id": "lKCk_ScG4w1G",
      "execution_count": 30,
      "outputs": [
        {
          "output_type": "stream",
          "name": "stdout",
          "text": [
            "A sample of data from the training set:\n",
            "----------------------------------------------------------------------------------------------------\n",
            "[array(['Tesla Motors recalls 2,700 Model X SUVs https://t.co/BFWS3DbM0U $TSLA'],\n",
            "      dtype='<U69'),\n",
            " array(['What is the sentiment of this tweet? Please choose an answer from {negative/neutral/positive}'],\n",
            "      dtype='<U93'),\n",
            " array(['negative'], dtype='<U8')]\n",
            "----------------------------------------------------------------------------------------------------\n"
          ]
        }
      ]
    },
    {
      "cell_type": "code",
      "source": [
        "training_dataset = [\n",
        "    {\n",
        "        \"input\": training_data.input[i].data()['value'],\n",
        "        \"output\": training_data.output[i].data()['value']\n",
        "    }\n",
        "    for i in range(len(training_data))\n",
        "]"
      ],
      "metadata": {
        "colab": {
          "base_uri": "https://localhost:8080/"
        },
        "id": "m6urFYHfHpRL",
        "outputId": "02317932-24cf-4967-df2b-544ce0814619"
      },
      "id": "m6urFYHfHpRL",
      "execution_count": 63,
      "outputs": [
        {
          "output_type": "stream",
          "name": "stderr",
          "text": [
            "/usr/local/lib/python3.10/dist-packages/deeplake/core/tensor.py:713: UserWarning: Indexing by integer in a for loop, like `for i in range(len(ds)): ... ds.tensor[i]` can be quite slow. Use `for i, sample in enumerate(ds)` instead.\n",
            "  warnings.warn(\n"
          ]
        }
      ]
    },
    {
      "cell_type": "code",
      "source": [
        "training_df = pd.DataFrame(training_dataset)\n",
        "training_df.head()"
      ],
      "metadata": {
        "colab": {
          "base_uri": "https://localhost:8080/",
          "height": 206
        },
        "id": "1jEvGgQGICkN",
        "outputId": "117e9ffe-4973-409d-9dbc-e1bca12472ee"
      },
      "id": "1jEvGgQGICkN",
      "execution_count": 64,
      "outputs": [
        {
          "output_type": "execute_result",
          "data": {
            "text/plain": [
              "                                               input           output\n",
              "0  Tesla Motors recalls 2,700 Model X SUVs https:...         negative\n",
              "1  Bank stocks have been big-time laggards in the...  mildly negative\n",
              "2  $NSM ascending base breakout starting to gain ...         positive\n",
              "3  How Much is ResMed Inc.'s (NYSE:RMD) CEO Getti...          neutral\n",
              "4  OUTOTEC OYJ PRESS RELEASE DECEMBER 4 , 2009 10...         positive"
            ],
            "text/html": [
              "\n",
              "  <div id=\"df-3ad60dec-0604-4f7f-9700-97c3e65871b6\" class=\"colab-df-container\">\n",
              "    <div>\n",
              "<style scoped>\n",
              "    .dataframe tbody tr th:only-of-type {\n",
              "        vertical-align: middle;\n",
              "    }\n",
              "\n",
              "    .dataframe tbody tr th {\n",
              "        vertical-align: top;\n",
              "    }\n",
              "\n",
              "    .dataframe thead th {\n",
              "        text-align: right;\n",
              "    }\n",
              "</style>\n",
              "<table border=\"1\" class=\"dataframe\">\n",
              "  <thead>\n",
              "    <tr style=\"text-align: right;\">\n",
              "      <th></th>\n",
              "      <th>input</th>\n",
              "      <th>output</th>\n",
              "    </tr>\n",
              "  </thead>\n",
              "  <tbody>\n",
              "    <tr>\n",
              "      <th>0</th>\n",
              "      <td>Tesla Motors recalls 2,700 Model X SUVs https:...</td>\n",
              "      <td>negative</td>\n",
              "    </tr>\n",
              "    <tr>\n",
              "      <th>1</th>\n",
              "      <td>Bank stocks have been big-time laggards in the...</td>\n",
              "      <td>mildly negative</td>\n",
              "    </tr>\n",
              "    <tr>\n",
              "      <th>2</th>\n",
              "      <td>$NSM ascending base breakout starting to gain ...</td>\n",
              "      <td>positive</td>\n",
              "    </tr>\n",
              "    <tr>\n",
              "      <th>3</th>\n",
              "      <td>How Much is ResMed Inc.'s (NYSE:RMD) CEO Getti...</td>\n",
              "      <td>neutral</td>\n",
              "    </tr>\n",
              "    <tr>\n",
              "      <th>4</th>\n",
              "      <td>OUTOTEC OYJ PRESS RELEASE DECEMBER 4 , 2009 10...</td>\n",
              "      <td>positive</td>\n",
              "    </tr>\n",
              "  </tbody>\n",
              "</table>\n",
              "</div>\n",
              "    <div class=\"colab-df-buttons\">\n",
              "\n",
              "  <div class=\"colab-df-container\">\n",
              "    <button class=\"colab-df-convert\" onclick=\"convertToInteractive('df-3ad60dec-0604-4f7f-9700-97c3e65871b6')\"\n",
              "            title=\"Convert this dataframe to an interactive table.\"\n",
              "            style=\"display:none;\">\n",
              "\n",
              "  <svg xmlns=\"http://www.w3.org/2000/svg\" height=\"24px\" viewBox=\"0 -960 960 960\">\n",
              "    <path d=\"M120-120v-720h720v720H120Zm60-500h600v-160H180v160Zm220 220h160v-160H400v160Zm0 220h160v-160H400v160ZM180-400h160v-160H180v160Zm440 0h160v-160H620v160ZM180-180h160v-160H180v160Zm440 0h160v-160H620v160Z\"/>\n",
              "  </svg>\n",
              "    </button>\n",
              "\n",
              "  <style>\n",
              "    .colab-df-container {\n",
              "      display:flex;\n",
              "      gap: 12px;\n",
              "    }\n",
              "\n",
              "    .colab-df-convert {\n",
              "      background-color: #E8F0FE;\n",
              "      border: none;\n",
              "      border-radius: 50%;\n",
              "      cursor: pointer;\n",
              "      display: none;\n",
              "      fill: #1967D2;\n",
              "      height: 32px;\n",
              "      padding: 0 0 0 0;\n",
              "      width: 32px;\n",
              "    }\n",
              "\n",
              "    .colab-df-convert:hover {\n",
              "      background-color: #E2EBFA;\n",
              "      box-shadow: 0px 1px 2px rgba(60, 64, 67, 0.3), 0px 1px 3px 1px rgba(60, 64, 67, 0.15);\n",
              "      fill: #174EA6;\n",
              "    }\n",
              "\n",
              "    .colab-df-buttons div {\n",
              "      margin-bottom: 4px;\n",
              "    }\n",
              "\n",
              "    [theme=dark] .colab-df-convert {\n",
              "      background-color: #3B4455;\n",
              "      fill: #D2E3FC;\n",
              "    }\n",
              "\n",
              "    [theme=dark] .colab-df-convert:hover {\n",
              "      background-color: #434B5C;\n",
              "      box-shadow: 0px 1px 3px 1px rgba(0, 0, 0, 0.15);\n",
              "      filter: drop-shadow(0px 1px 2px rgba(0, 0, 0, 0.3));\n",
              "      fill: #FFFFFF;\n",
              "    }\n",
              "  </style>\n",
              "\n",
              "    <script>\n",
              "      const buttonEl =\n",
              "        document.querySelector('#df-3ad60dec-0604-4f7f-9700-97c3e65871b6 button.colab-df-convert');\n",
              "      buttonEl.style.display =\n",
              "        google.colab.kernel.accessAllowed ? 'block' : 'none';\n",
              "\n",
              "      async function convertToInteractive(key) {\n",
              "        const element = document.querySelector('#df-3ad60dec-0604-4f7f-9700-97c3e65871b6');\n",
              "        const dataTable =\n",
              "          await google.colab.kernel.invokeFunction('convertToInteractive',\n",
              "                                                    [key], {});\n",
              "        if (!dataTable) return;\n",
              "\n",
              "        const docLinkHtml = 'Like what you see? Visit the ' +\n",
              "          '<a target=\"_blank\" href=https://colab.research.google.com/notebooks/data_table.ipynb>data table notebook</a>'\n",
              "          + ' to learn more about interactive tables.';\n",
              "        element.innerHTML = '';\n",
              "        dataTable['output_type'] = 'display_data';\n",
              "        await google.colab.output.renderOutput(dataTable, element);\n",
              "        const docLink = document.createElement('div');\n",
              "        docLink.innerHTML = docLinkHtml;\n",
              "        element.appendChild(docLink);\n",
              "      }\n",
              "    </script>\n",
              "  </div>\n",
              "\n",
              "\n",
              "<div id=\"df-bb01a358-f385-4a2a-be23-759f6573db36\">\n",
              "  <button class=\"colab-df-quickchart\" onclick=\"quickchart('df-bb01a358-f385-4a2a-be23-759f6573db36')\"\n",
              "            title=\"Suggest charts\"\n",
              "            style=\"display:none;\">\n",
              "\n",
              "<svg xmlns=\"http://www.w3.org/2000/svg\" height=\"24px\"viewBox=\"0 0 24 24\"\n",
              "     width=\"24px\">\n",
              "    <g>\n",
              "        <path d=\"M19 3H5c-1.1 0-2 .9-2 2v14c0 1.1.9 2 2 2h14c1.1 0 2-.9 2-2V5c0-1.1-.9-2-2-2zM9 17H7v-7h2v7zm4 0h-2V7h2v10zm4 0h-2v-4h2v4z\"/>\n",
              "    </g>\n",
              "</svg>\n",
              "  </button>\n",
              "\n",
              "<style>\n",
              "  .colab-df-quickchart {\n",
              "      --bg-color: #E8F0FE;\n",
              "      --fill-color: #1967D2;\n",
              "      --hover-bg-color: #E2EBFA;\n",
              "      --hover-fill-color: #174EA6;\n",
              "      --disabled-fill-color: #AAA;\n",
              "      --disabled-bg-color: #DDD;\n",
              "  }\n",
              "\n",
              "  [theme=dark] .colab-df-quickchart {\n",
              "      --bg-color: #3B4455;\n",
              "      --fill-color: #D2E3FC;\n",
              "      --hover-bg-color: #434B5C;\n",
              "      --hover-fill-color: #FFFFFF;\n",
              "      --disabled-bg-color: #3B4455;\n",
              "      --disabled-fill-color: #666;\n",
              "  }\n",
              "\n",
              "  .colab-df-quickchart {\n",
              "    background-color: var(--bg-color);\n",
              "    border: none;\n",
              "    border-radius: 50%;\n",
              "    cursor: pointer;\n",
              "    display: none;\n",
              "    fill: var(--fill-color);\n",
              "    height: 32px;\n",
              "    padding: 0;\n",
              "    width: 32px;\n",
              "  }\n",
              "\n",
              "  .colab-df-quickchart:hover {\n",
              "    background-color: var(--hover-bg-color);\n",
              "    box-shadow: 0 1px 2px rgba(60, 64, 67, 0.3), 0 1px 3px 1px rgba(60, 64, 67, 0.15);\n",
              "    fill: var(--button-hover-fill-color);\n",
              "  }\n",
              "\n",
              "  .colab-df-quickchart-complete:disabled,\n",
              "  .colab-df-quickchart-complete:disabled:hover {\n",
              "    background-color: var(--disabled-bg-color);\n",
              "    fill: var(--disabled-fill-color);\n",
              "    box-shadow: none;\n",
              "  }\n",
              "\n",
              "  .colab-df-spinner {\n",
              "    border: 2px solid var(--fill-color);\n",
              "    border-color: transparent;\n",
              "    border-bottom-color: var(--fill-color);\n",
              "    animation:\n",
              "      spin 1s steps(1) infinite;\n",
              "  }\n",
              "\n",
              "  @keyframes spin {\n",
              "    0% {\n",
              "      border-color: transparent;\n",
              "      border-bottom-color: var(--fill-color);\n",
              "      border-left-color: var(--fill-color);\n",
              "    }\n",
              "    20% {\n",
              "      border-color: transparent;\n",
              "      border-left-color: var(--fill-color);\n",
              "      border-top-color: var(--fill-color);\n",
              "    }\n",
              "    30% {\n",
              "      border-color: transparent;\n",
              "      border-left-color: var(--fill-color);\n",
              "      border-top-color: var(--fill-color);\n",
              "      border-right-color: var(--fill-color);\n",
              "    }\n",
              "    40% {\n",
              "      border-color: transparent;\n",
              "      border-right-color: var(--fill-color);\n",
              "      border-top-color: var(--fill-color);\n",
              "    }\n",
              "    60% {\n",
              "      border-color: transparent;\n",
              "      border-right-color: var(--fill-color);\n",
              "    }\n",
              "    80% {\n",
              "      border-color: transparent;\n",
              "      border-right-color: var(--fill-color);\n",
              "      border-bottom-color: var(--fill-color);\n",
              "    }\n",
              "    90% {\n",
              "      border-color: transparent;\n",
              "      border-bottom-color: var(--fill-color);\n",
              "    }\n",
              "  }\n",
              "</style>\n",
              "\n",
              "  <script>\n",
              "    async function quickchart(key) {\n",
              "      const quickchartButtonEl =\n",
              "        document.querySelector('#' + key + ' button');\n",
              "      quickchartButtonEl.disabled = true;  // To prevent multiple clicks.\n",
              "      quickchartButtonEl.classList.add('colab-df-spinner');\n",
              "      try {\n",
              "        const charts = await google.colab.kernel.invokeFunction(\n",
              "            'suggestCharts', [key], {});\n",
              "      } catch (error) {\n",
              "        console.error('Error during call to suggestCharts:', error);\n",
              "      }\n",
              "      quickchartButtonEl.classList.remove('colab-df-spinner');\n",
              "      quickchartButtonEl.classList.add('colab-df-quickchart-complete');\n",
              "    }\n",
              "    (() => {\n",
              "      let quickchartButtonEl =\n",
              "        document.querySelector('#df-bb01a358-f385-4a2a-be23-759f6573db36 button');\n",
              "      quickchartButtonEl.style.display =\n",
              "        google.colab.kernel.accessAllowed ? 'block' : 'none';\n",
              "    })();\n",
              "  </script>\n",
              "</div>\n",
              "\n",
              "    </div>\n",
              "  </div>\n"
            ],
            "application/vnd.google.colaboratory.intrinsic+json": {
              "type": "dataframe",
              "variable_name": "training_df",
              "summary": "{\n  \"name\": \"training_df\",\n  \"rows\": 20000,\n  \"fields\": [\n    {\n      \"column\": \"input\",\n      \"properties\": {\n        \"dtype\": \"string\",\n        \"num_unique_values\": 11820,\n        \"samples\": [\n          \"The size of the extension , 18.5 % of which already has been let , will have a gross area of about 2,830 sq m 30,460 sq ft .\",\n          \"The contract includes design , construction , delivery of equipment , installation and commissioning .\",\n          \"Jim Cramer, Mad Money host, joins \\u2018Squawk Box' to discuss his first take on PepsiCo.\"\n        ],\n        \"semantic_type\": \"\",\n        \"description\": \"\"\n      }\n    },\n    {\n      \"column\": \"output\",\n      \"properties\": {\n        \"dtype\": \"category\",\n        \"num_unique_values\": 9,\n        \"samples\": [\n          \"strong positive\",\n          \"mildly negative\",\n          \"mildly positive\"\n        ],\n        \"semantic_type\": \"\",\n        \"description\": \"\"\n      }\n    }\n  ]\n}"
            }
          },
          "metadata": {},
          "execution_count": 64
        }
      ]
    },
    {
      "cell_type": "code",
      "source": [
        "training_df.to_csv('training_data.csv', index=False)"
      ],
      "metadata": {
        "id": "7LiH5i7TIMzo"
      },
      "id": "7LiH5i7TIMzo",
      "execution_count": 65,
      "outputs": []
    },
    {
      "cell_type": "code",
      "source": [
        "training_df.shape"
      ],
      "metadata": {
        "colab": {
          "base_uri": "https://localhost:8080/"
        },
        "id": "8SjFgsDrIWpf",
        "outputId": "c53e5583-f64d-4155-dde5-900d01c5b588"
      },
      "id": "8SjFgsDrIWpf",
      "execution_count": 66,
      "outputs": [
        {
          "output_type": "execute_result",
          "data": {
            "text/plain": [
              "(20000, 2)"
            ]
          },
          "metadata": {},
          "execution_count": 66
        }
      ]
    },
    {
      "cell_type": "markdown",
      "source": [
        "## Validation Data"
      ],
      "metadata": {
        "id": "VZ8JvC8-7ltk"
      },
      "id": "VZ8JvC8-7ltk"
    },
    {
      "cell_type": "code",
      "source": [
        "validation_data = dl.load('hub://genai360/FingGPT-sentiment-valid-set')"
      ],
      "metadata": {
        "colab": {
          "base_uri": "https://localhost:8080/"
        },
        "id": "7l_KKvDt7h8e",
        "outputId": "621d0dcb-fdea-4119-fffd-442a7e257a3a"
      },
      "id": "7l_KKvDt7h8e",
      "execution_count": 31,
      "outputs": [
        {
          "output_type": "stream",
          "name": "stderr",
          "text": [
            "\r\r"
          ]
        },
        {
          "output_type": "stream",
          "name": "stdout",
          "text": [
            "Opening dataset in read-only mode as you don't have write permissions.\n"
          ]
        },
        {
          "output_type": "stream",
          "name": "stderr",
          "text": [
            "\\"
          ]
        },
        {
          "output_type": "stream",
          "name": "stdout",
          "text": [
            "This dataset can be visualized in Jupyter Notebook by ds.visualize() or at https://app.activeloop.ai/genai360/FingGPT-sentiment-valid-set\n",
            "\n"
          ]
        },
        {
          "output_type": "stream",
          "name": "stderr",
          "text": [
            "|"
          ]
        },
        {
          "output_type": "stream",
          "name": "stdout",
          "text": [
            "hub://genai360/FingGPT-sentiment-valid-set loaded successfully.\n",
            "\n"
          ]
        },
        {
          "output_type": "stream",
          "name": "stderr",
          "text": [
            "\r \r\r\r"
          ]
        }
      ]
    },
    {
      "cell_type": "code",
      "source": [
        "pprint(validation_data)"
      ],
      "metadata": {
        "colab": {
          "base_uri": "https://localhost:8080/"
        },
        "id": "oDaTKeOr73OQ",
        "outputId": "2f8d9b0c-f132-4312-c0e8-6e6b287a86bb"
      },
      "id": "oDaTKeOr73OQ",
      "execution_count": 32,
      "outputs": [
        {
          "output_type": "stream",
          "name": "stdout",
          "text": [
            "Dataset(path='hub://genai360/FingGPT-sentiment-valid-set', read_only=True, tensors=['input', 'instruction', 'output'])\n"
          ]
        }
      ]
    },
    {
      "cell_type": "code",
      "source": [
        "validation_data.summary()"
      ],
      "metadata": {
        "colab": {
          "base_uri": "https://localhost:8080/"
        },
        "id": "Lz5AUAv475Mr",
        "outputId": "38193abc-6c08-4455-ba15-0959bf6ffc6b"
      },
      "id": "Lz5AUAv475Mr",
      "execution_count": 34,
      "outputs": [
        {
          "output_type": "stream",
          "name": "stdout",
          "text": [
            "Dataset(path='hub://genai360/FingGPT-sentiment-valid-set', read_only=True, tensors=['input', 'instruction', 'output'])\n",
            "\n",
            "   tensor      htype     shape     dtype  compression\n",
            "   -------    -------   -------   -------  ------- \n",
            "    input      text    (2000, 1)    str     None   \n",
            " instruction   text    (2000, 1)    str     None   \n",
            "   output      text    (2000, 1)    str     None   \n"
          ]
        }
      ]
    },
    {
      "cell_type": "code",
      "source": [
        "row = [validation_data.input[10].numpy(), validation_data.instruction[10].numpy(), validation_data.output[10].numpy()]\n",
        "print(\"A sample of data from the Validation set:\")\n",
        "print(\"-\" * 100)\n",
        "pprint(row)\n",
        "print(\"-\" * 100)"
      ],
      "metadata": {
        "colab": {
          "base_uri": "https://localhost:8080/"
        },
        "id": "iR40PE9t8DlW",
        "outputId": "92bc8968-3358-45cf-c773-57e0ccdcdf39"
      },
      "id": "iR40PE9t8DlW",
      "execution_count": 35,
      "outputs": [
        {
          "output_type": "stream",
          "name": "stdout",
          "text": [
            "A sample of data from the Validation set:\n",
            "----------------------------------------------------------------------------------------------------\n",
            "[array(['Why not give your bedroom a cool makeover for summer .'],\n",
            "      dtype='<U54'),\n",
            " array(['What is the sentiment of this news? Please choose an answer from {negative/neutral/positive}'],\n",
            "      dtype='<U92'),\n",
            " array(['neutral'], dtype='<U7')]\n",
            "----------------------------------------------------------------------------------------------------\n"
          ]
        }
      ]
    },
    {
      "cell_type": "code",
      "source": [
        "validation_data.input[10].data()"
      ],
      "metadata": {
        "colab": {
          "base_uri": "https://localhost:8080/"
        },
        "outputId": "c17a7b83-d0ca-4a52-9623-57f4e44de80b",
        "id": "R5YVpcKYCvmg"
      },
      "execution_count": 46,
      "outputs": [
        {
          "output_type": "execute_result",
          "data": {
            "text/plain": [
              "{'value': 'Why not give your bedroom a cool makeover for summer .'}"
            ]
          },
          "metadata": {},
          "execution_count": 46
        }
      ],
      "id": "R5YVpcKYCvmg"
    },
    {
      "cell_type": "code",
      "source": [
        "validation_data.input[10].data()['value']"
      ],
      "metadata": {
        "colab": {
          "base_uri": "https://localhost:8080/",
          "height": 35
        },
        "id": "sWk64PX-CQF2",
        "outputId": "8c0e01ab-b7a4-4fc3-ecb0-a3184143c210"
      },
      "id": "sWk64PX-CQF2",
      "execution_count": 47,
      "outputs": [
        {
          "output_type": "execute_result",
          "data": {
            "text/plain": [
              "'Why not give your bedroom a cool makeover for summer .'"
            ],
            "application/vnd.google.colaboratory.intrinsic+json": {
              "type": "string"
            }
          },
          "metadata": {},
          "execution_count": 47
        }
      ]
    },
    {
      "cell_type": "code",
      "source": [
        "validation_dataset = [\n",
        "    {\n",
        "        \"input\": validation_data.input[i].data()['value'],\n",
        "        \"output\": validation_data.output[i].data()['value']\n",
        "    }\n",
        "    for i in range(len(validation_data))\n",
        "]"
      ],
      "metadata": {
        "colab": {
          "base_uri": "https://localhost:8080/"
        },
        "id": "NPEKggdsGVM6",
        "outputId": "fd6a59bc-11a8-4261-ae14-4eb7f146a564"
      },
      "id": "NPEKggdsGVM6",
      "execution_count": 56,
      "outputs": [
        {
          "output_type": "stream",
          "name": "stderr",
          "text": [
            "/usr/local/lib/python3.10/dist-packages/deeplake/core/tensor.py:713: UserWarning: Indexing by integer in a for loop, like `for i in range(len(ds)): ... ds.tensor[i]` can be quite slow. Use `for i, sample in enumerate(ds)` instead.\n",
            "  warnings.warn(\n"
          ]
        }
      ]
    },
    {
      "cell_type": "code",
      "source": [
        "validation_df = pd.DataFrame(validation_dataset)\n",
        "validation_df.head()"
      ],
      "metadata": {
        "colab": {
          "base_uri": "https://localhost:8080/",
          "height": 206
        },
        "id": "lorhMA6pGg8J",
        "outputId": "c721ed14-9ac5-4849-eb94-94fdbaff747d"
      },
      "id": "lorhMA6pGg8J",
      "execution_count": 61,
      "outputs": [
        {
          "output_type": "execute_result",
          "data": {
            "text/plain": [
              "                                               input               output\n",
              "0  Diageo Shares Surge on Report of Possible Take...             positive\n",
              "1  HELSINKI , Finland , Sept. 18 , 2009 ( GLOBE N...             positive\n",
              "2  In Finland , 71 % of paper and paperboard is r...              neutral\n",
              "3  This assignment strengthens Poyry 's position ...             positive\n",
              "4  ADP has been experiencing slow, steady growth ...  moderately positive"
            ],
            "text/html": [
              "\n",
              "  <div id=\"df-e271600e-3701-4925-9c2b-e62756250ac2\" class=\"colab-df-container\">\n",
              "    <div>\n",
              "<style scoped>\n",
              "    .dataframe tbody tr th:only-of-type {\n",
              "        vertical-align: middle;\n",
              "    }\n",
              "\n",
              "    .dataframe tbody tr th {\n",
              "        vertical-align: top;\n",
              "    }\n",
              "\n",
              "    .dataframe thead th {\n",
              "        text-align: right;\n",
              "    }\n",
              "</style>\n",
              "<table border=\"1\" class=\"dataframe\">\n",
              "  <thead>\n",
              "    <tr style=\"text-align: right;\">\n",
              "      <th></th>\n",
              "      <th>input</th>\n",
              "      <th>output</th>\n",
              "    </tr>\n",
              "  </thead>\n",
              "  <tbody>\n",
              "    <tr>\n",
              "      <th>0</th>\n",
              "      <td>Diageo Shares Surge on Report of Possible Take...</td>\n",
              "      <td>positive</td>\n",
              "    </tr>\n",
              "    <tr>\n",
              "      <th>1</th>\n",
              "      <td>HELSINKI , Finland , Sept. 18 , 2009 ( GLOBE N...</td>\n",
              "      <td>positive</td>\n",
              "    </tr>\n",
              "    <tr>\n",
              "      <th>2</th>\n",
              "      <td>In Finland , 71 % of paper and paperboard is r...</td>\n",
              "      <td>neutral</td>\n",
              "    </tr>\n",
              "    <tr>\n",
              "      <th>3</th>\n",
              "      <td>This assignment strengthens Poyry 's position ...</td>\n",
              "      <td>positive</td>\n",
              "    </tr>\n",
              "    <tr>\n",
              "      <th>4</th>\n",
              "      <td>ADP has been experiencing slow, steady growth ...</td>\n",
              "      <td>moderately positive</td>\n",
              "    </tr>\n",
              "  </tbody>\n",
              "</table>\n",
              "</div>\n",
              "    <div class=\"colab-df-buttons\">\n",
              "\n",
              "  <div class=\"colab-df-container\">\n",
              "    <button class=\"colab-df-convert\" onclick=\"convertToInteractive('df-e271600e-3701-4925-9c2b-e62756250ac2')\"\n",
              "            title=\"Convert this dataframe to an interactive table.\"\n",
              "            style=\"display:none;\">\n",
              "\n",
              "  <svg xmlns=\"http://www.w3.org/2000/svg\" height=\"24px\" viewBox=\"0 -960 960 960\">\n",
              "    <path d=\"M120-120v-720h720v720H120Zm60-500h600v-160H180v160Zm220 220h160v-160H400v160Zm0 220h160v-160H400v160ZM180-400h160v-160H180v160Zm440 0h160v-160H620v160ZM180-180h160v-160H180v160Zm440 0h160v-160H620v160Z\"/>\n",
              "  </svg>\n",
              "    </button>\n",
              "\n",
              "  <style>\n",
              "    .colab-df-container {\n",
              "      display:flex;\n",
              "      gap: 12px;\n",
              "    }\n",
              "\n",
              "    .colab-df-convert {\n",
              "      background-color: #E8F0FE;\n",
              "      border: none;\n",
              "      border-radius: 50%;\n",
              "      cursor: pointer;\n",
              "      display: none;\n",
              "      fill: #1967D2;\n",
              "      height: 32px;\n",
              "      padding: 0 0 0 0;\n",
              "      width: 32px;\n",
              "    }\n",
              "\n",
              "    .colab-df-convert:hover {\n",
              "      background-color: #E2EBFA;\n",
              "      box-shadow: 0px 1px 2px rgba(60, 64, 67, 0.3), 0px 1px 3px 1px rgba(60, 64, 67, 0.15);\n",
              "      fill: #174EA6;\n",
              "    }\n",
              "\n",
              "    .colab-df-buttons div {\n",
              "      margin-bottom: 4px;\n",
              "    }\n",
              "\n",
              "    [theme=dark] .colab-df-convert {\n",
              "      background-color: #3B4455;\n",
              "      fill: #D2E3FC;\n",
              "    }\n",
              "\n",
              "    [theme=dark] .colab-df-convert:hover {\n",
              "      background-color: #434B5C;\n",
              "      box-shadow: 0px 1px 3px 1px rgba(0, 0, 0, 0.15);\n",
              "      filter: drop-shadow(0px 1px 2px rgba(0, 0, 0, 0.3));\n",
              "      fill: #FFFFFF;\n",
              "    }\n",
              "  </style>\n",
              "\n",
              "    <script>\n",
              "      const buttonEl =\n",
              "        document.querySelector('#df-e271600e-3701-4925-9c2b-e62756250ac2 button.colab-df-convert');\n",
              "      buttonEl.style.display =\n",
              "        google.colab.kernel.accessAllowed ? 'block' : 'none';\n",
              "\n",
              "      async function convertToInteractive(key) {\n",
              "        const element = document.querySelector('#df-e271600e-3701-4925-9c2b-e62756250ac2');\n",
              "        const dataTable =\n",
              "          await google.colab.kernel.invokeFunction('convertToInteractive',\n",
              "                                                    [key], {});\n",
              "        if (!dataTable) return;\n",
              "\n",
              "        const docLinkHtml = 'Like what you see? Visit the ' +\n",
              "          '<a target=\"_blank\" href=https://colab.research.google.com/notebooks/data_table.ipynb>data table notebook</a>'\n",
              "          + ' to learn more about interactive tables.';\n",
              "        element.innerHTML = '';\n",
              "        dataTable['output_type'] = 'display_data';\n",
              "        await google.colab.output.renderOutput(dataTable, element);\n",
              "        const docLink = document.createElement('div');\n",
              "        docLink.innerHTML = docLinkHtml;\n",
              "        element.appendChild(docLink);\n",
              "      }\n",
              "    </script>\n",
              "  </div>\n",
              "\n",
              "\n",
              "<div id=\"df-3196139e-b2b9-4e3f-ba24-d76b45dba5ee\">\n",
              "  <button class=\"colab-df-quickchart\" onclick=\"quickchart('df-3196139e-b2b9-4e3f-ba24-d76b45dba5ee')\"\n",
              "            title=\"Suggest charts\"\n",
              "            style=\"display:none;\">\n",
              "\n",
              "<svg xmlns=\"http://www.w3.org/2000/svg\" height=\"24px\"viewBox=\"0 0 24 24\"\n",
              "     width=\"24px\">\n",
              "    <g>\n",
              "        <path d=\"M19 3H5c-1.1 0-2 .9-2 2v14c0 1.1.9 2 2 2h14c1.1 0 2-.9 2-2V5c0-1.1-.9-2-2-2zM9 17H7v-7h2v7zm4 0h-2V7h2v10zm4 0h-2v-4h2v4z\"/>\n",
              "    </g>\n",
              "</svg>\n",
              "  </button>\n",
              "\n",
              "<style>\n",
              "  .colab-df-quickchart {\n",
              "      --bg-color: #E8F0FE;\n",
              "      --fill-color: #1967D2;\n",
              "      --hover-bg-color: #E2EBFA;\n",
              "      --hover-fill-color: #174EA6;\n",
              "      --disabled-fill-color: #AAA;\n",
              "      --disabled-bg-color: #DDD;\n",
              "  }\n",
              "\n",
              "  [theme=dark] .colab-df-quickchart {\n",
              "      --bg-color: #3B4455;\n",
              "      --fill-color: #D2E3FC;\n",
              "      --hover-bg-color: #434B5C;\n",
              "      --hover-fill-color: #FFFFFF;\n",
              "      --disabled-bg-color: #3B4455;\n",
              "      --disabled-fill-color: #666;\n",
              "  }\n",
              "\n",
              "  .colab-df-quickchart {\n",
              "    background-color: var(--bg-color);\n",
              "    border: none;\n",
              "    border-radius: 50%;\n",
              "    cursor: pointer;\n",
              "    display: none;\n",
              "    fill: var(--fill-color);\n",
              "    height: 32px;\n",
              "    padding: 0;\n",
              "    width: 32px;\n",
              "  }\n",
              "\n",
              "  .colab-df-quickchart:hover {\n",
              "    background-color: var(--hover-bg-color);\n",
              "    box-shadow: 0 1px 2px rgba(60, 64, 67, 0.3), 0 1px 3px 1px rgba(60, 64, 67, 0.15);\n",
              "    fill: var(--button-hover-fill-color);\n",
              "  }\n",
              "\n",
              "  .colab-df-quickchart-complete:disabled,\n",
              "  .colab-df-quickchart-complete:disabled:hover {\n",
              "    background-color: var(--disabled-bg-color);\n",
              "    fill: var(--disabled-fill-color);\n",
              "    box-shadow: none;\n",
              "  }\n",
              "\n",
              "  .colab-df-spinner {\n",
              "    border: 2px solid var(--fill-color);\n",
              "    border-color: transparent;\n",
              "    border-bottom-color: var(--fill-color);\n",
              "    animation:\n",
              "      spin 1s steps(1) infinite;\n",
              "  }\n",
              "\n",
              "  @keyframes spin {\n",
              "    0% {\n",
              "      border-color: transparent;\n",
              "      border-bottom-color: var(--fill-color);\n",
              "      border-left-color: var(--fill-color);\n",
              "    }\n",
              "    20% {\n",
              "      border-color: transparent;\n",
              "      border-left-color: var(--fill-color);\n",
              "      border-top-color: var(--fill-color);\n",
              "    }\n",
              "    30% {\n",
              "      border-color: transparent;\n",
              "      border-left-color: var(--fill-color);\n",
              "      border-top-color: var(--fill-color);\n",
              "      border-right-color: var(--fill-color);\n",
              "    }\n",
              "    40% {\n",
              "      border-color: transparent;\n",
              "      border-right-color: var(--fill-color);\n",
              "      border-top-color: var(--fill-color);\n",
              "    }\n",
              "    60% {\n",
              "      border-color: transparent;\n",
              "      border-right-color: var(--fill-color);\n",
              "    }\n",
              "    80% {\n",
              "      border-color: transparent;\n",
              "      border-right-color: var(--fill-color);\n",
              "      border-bottom-color: var(--fill-color);\n",
              "    }\n",
              "    90% {\n",
              "      border-color: transparent;\n",
              "      border-bottom-color: var(--fill-color);\n",
              "    }\n",
              "  }\n",
              "</style>\n",
              "\n",
              "  <script>\n",
              "    async function quickchart(key) {\n",
              "      const quickchartButtonEl =\n",
              "        document.querySelector('#' + key + ' button');\n",
              "      quickchartButtonEl.disabled = true;  // To prevent multiple clicks.\n",
              "      quickchartButtonEl.classList.add('colab-df-spinner');\n",
              "      try {\n",
              "        const charts = await google.colab.kernel.invokeFunction(\n",
              "            'suggestCharts', [key], {});\n",
              "      } catch (error) {\n",
              "        console.error('Error during call to suggestCharts:', error);\n",
              "      }\n",
              "      quickchartButtonEl.classList.remove('colab-df-spinner');\n",
              "      quickchartButtonEl.classList.add('colab-df-quickchart-complete');\n",
              "    }\n",
              "    (() => {\n",
              "      let quickchartButtonEl =\n",
              "        document.querySelector('#df-3196139e-b2b9-4e3f-ba24-d76b45dba5ee button');\n",
              "      quickchartButtonEl.style.display =\n",
              "        google.colab.kernel.accessAllowed ? 'block' : 'none';\n",
              "    })();\n",
              "  </script>\n",
              "</div>\n",
              "\n",
              "    </div>\n",
              "  </div>\n"
            ],
            "application/vnd.google.colaboratory.intrinsic+json": {
              "type": "dataframe",
              "variable_name": "validation_df",
              "summary": "{\n  \"name\": \"validation_df\",\n  \"rows\": 2000,\n  \"fields\": [\n    {\n      \"column\": \"input\",\n      \"properties\": {\n        \"dtype\": \"string\",\n        \"num_unique_values\": 1791,\n        \"samples\": [\n          \"After buying Eukor Car Carriers 50 percent stake , Grimaldi Group is now the sole owner of the Swedish roll-on , roll-off port of Wallhamn .\",\n          \"$GILD 91 now support. $IBB $BIB https://t.co/GIoOf6zbKv\",\n          \"No financial details were reported .\"\n        ],\n        \"semantic_type\": \"\",\n        \"description\": \"\"\n      }\n    },\n    {\n      \"column\": \"output\",\n      \"properties\": {\n        \"dtype\": \"category\",\n        \"num_unique_values\": 9,\n        \"samples\": [\n          \"strong negative\",\n          \"neutral\",\n          \"mildly negative\"\n        ],\n        \"semantic_type\": \"\",\n        \"description\": \"\"\n      }\n    }\n  ]\n}"
            }
          },
          "metadata": {},
          "execution_count": 61
        }
      ]
    },
    {
      "cell_type": "code",
      "source": [
        "validation_df.to_csv('validation_data.csv', index=False)"
      ],
      "metadata": {
        "id": "Umow8RC3HaTN"
      },
      "id": "Umow8RC3HaTN",
      "execution_count": 62,
      "outputs": []
    },
    {
      "cell_type": "code",
      "source": [
        "validation_df.shape"
      ],
      "metadata": {
        "colab": {
          "base_uri": "https://localhost:8080/"
        },
        "id": "Sr3gwIocIgFp",
        "outputId": "dd9b69f5-cdc1-4265-9e0b-3b78b442a5a3"
      },
      "id": "Sr3gwIocIgFp",
      "execution_count": 67,
      "outputs": [
        {
          "output_type": "execute_result",
          "data": {
            "text/plain": [
              "(2000, 2)"
            ]
          },
          "metadata": {},
          "execution_count": 67
        }
      ]
    },
    {
      "cell_type": "markdown",
      "id": "2b3151e9-8715-47bd-a153-195d6a0d0a70",
      "metadata": {
        "id": "2b3151e9-8715-47bd-a153-195d6a0d0a70"
      },
      "source": [
        "## Data preparation\n",
        "\n",
        "We'll begin by preparing our data. When fine-tuning with the `ChatCompletion` format, each training example is a simple list of `messages`. For example, an entry could look like:\n",
        "\n",
        "```\n",
        "[{'role': 'system',\n",
        "  'content': 'You are a helpful recipe assistant. You are to extract the generic ingredients from each of the recipes provided.'},\n",
        "\n",
        " {'role': 'user',\n",
        "  'content': 'Title: No-Bake Nut Cookies\\n\\nIngredients: [\"1 c. firmly packed brown sugar\", \"1/2 c. evaporated milk\", \"1/2 tsp. vanilla\", \"1/2 c. broken nuts (pecans)\", \"2 Tbsp. butter or margarine\", \"3 1/2 c. bite size shredded rice biscuits\"]\\n\\nGeneric ingredients: '},\n",
        "\n",
        " {'role': 'assistant',\n",
        "  'content': '[\"brown sugar\", \"milk\", \"vanilla\", \"nuts\", \"butter\", \"bite size shredded rice biscuits\"]'}]\n",
        "```\n",
        "\n",
        "During the training process this conversation will be split, with the final entry being the `completion` that the model will produce, and the remainder of the `messages` acting as the prompt. Consider this when building your training examples - if your model will act on multi-turn conversations, then please provide representative examples so it doesn't perform poorly when the conversation starts to expand.\n",
        "\n",
        "Please note that currently there is a 4096 token limit for each training example. Anything longer than this will be truncated at 4096 tokens.\n"
      ]
    },
    {
      "cell_type": "code",
      "execution_count": 68,
      "id": "9a8216b0-d1dc-472d-b07d-1be03acd70a5",
      "metadata": {
        "id": "9a8216b0-d1dc-472d-b07d-1be03acd70a5"
      },
      "outputs": [],
      "source": [
        "system_message = \"You are an expert in financial sentiment prediction. You are to classify each text provided into {negative/neutral/positive}.\"\n",
        "\n",
        "# def create_user_message(row):\n",
        "#     return f\"Title: {row['title']}\\n\\nIngredients: {row['ingredients']}\\n\\nGeneric ingredients: \"\n",
        "\n",
        "def prepare_example_conversation(row):\n",
        "    return {\n",
        "        \"messages\": [\n",
        "            {\"role\": \"system\", \"content\": system_message},\n",
        "            {\"role\": \"user\", \"content\": row['input']},\n",
        "            {\"role\": \"assistant\", \"content\": row[\"output\"]},\n",
        "        ]\n",
        "    }"
      ]
    },
    {
      "cell_type": "code",
      "source": [
        "pprint(prepare_example_conversation(training_df.iloc[0]))"
      ],
      "metadata": {
        "colab": {
          "base_uri": "https://localhost:8080/"
        },
        "id": "A_O3zP5pKYfB",
        "outputId": "1aaf80f0-9296-435a-8371-b9f40582fb42"
      },
      "id": "A_O3zP5pKYfB",
      "execution_count": 69,
      "outputs": [
        {
          "output_type": "stream",
          "name": "stdout",
          "text": [
            "{'messages': [{'content': 'You are an expert in financial sentiment '\n",
            "                          'prediction. You are to classify each text provided '\n",
            "                          'into {negative/neutral/positive}.',\n",
            "               'role': 'system'},\n",
            "              {'content': 'Tesla Motors recalls 2,700 Model X SUVs https://t.co/BFWS3DbM0U $TSLA',\n",
            "               'role': 'user'},\n",
            "              {'content': 'negative', 'role': 'assistant'}]}\n"
          ]
        }
      ]
    },
    {
      "cell_type": "markdown",
      "id": "82fa4fae",
      "metadata": {
        "id": "82fa4fae"
      },
      "source": [
        "Let's now do this for a subset of the dataset to use as our training data. You can begin with even 30-50 well-pruned examples. You should see performance continue to scale linearly as you increase the size of the training set, but your jobs will also take longer.\n"
      ]
    },
    {
      "cell_type": "code",
      "execution_count": 70,
      "id": "8f37aff9",
      "metadata": {
        "colab": {
          "base_uri": "https://localhost:8080/"
        },
        "id": "8f37aff9",
        "outputId": "15152a00-3306-4548-e881-c9157f4d49e6"
      },
      "outputs": [
        {
          "output_type": "stream",
          "name": "stdout",
          "text": [
            "{'messages': [{'role': 'system', 'content': 'You are an expert in financial sentiment prediction. You are to classify each text provided into {negative/neutral/positive}.'}, {'role': 'user', 'content': 'Tesla Motors recalls 2,700 Model X SUVs https://t.co/BFWS3DbM0U $TSLA'}, {'role': 'assistant', 'content': 'negative'}]}\n",
            "{'messages': [{'role': 'system', 'content': 'You are an expert in financial sentiment prediction. You are to classify each text provided into {negative/neutral/positive}.'}, {'role': 'user', 'content': 'Bank stocks have been big-time laggards in the ongoing market pullback. This is despite the fact that core features of the economy have been stable and rising interest rates are generally expected to benefit banks since they help expand their margins.'}, {'role': 'assistant', 'content': 'mildly negative'}]}\n",
            "{'messages': [{'role': 'system', 'content': 'You are an expert in financial sentiment prediction. You are to classify each text provided into {negative/neutral/positive}.'}, {'role': 'user', 'content': '$NSM ascending base breakout starting to gain traction; strong stock http://stks.co/gBSH'}, {'role': 'assistant', 'content': 'positive'}]}\n",
            "{'messages': [{'role': 'system', 'content': 'You are an expert in financial sentiment prediction. You are to classify each text provided into {negative/neutral/positive}.'}, {'role': 'user', 'content': \"How Much is ResMed Inc.'s (NYSE:RMD) CEO Getting Paid?\"}, {'role': 'assistant', 'content': 'neutral'}]}\n",
            "{'messages': [{'role': 'system', 'content': 'You are an expert in financial sentiment prediction. You are to classify each text provided into {negative/neutral/positive}.'}, {'role': 'user', 'content': 'OUTOTEC OYJ PRESS RELEASE DECEMBER 4 , 2009 10.30 AM Outotec establishes a new subsidiary in Kolkata Outotec has established a subsidiary in India in order to better serve its Indian customers and to increase its business in the growing Indian market .'}, {'role': 'assistant', 'content': 'positive'}]}\n"
          ]
        }
      ],
      "source": [
        "# apply the prepare_example_conversation function to each row of the training_df\n",
        "training_data = training_df.apply(prepare_example_conversation, axis=1).tolist()\n",
        "\n",
        "for example in training_data[:5]:\n",
        "    print(example)"
      ]
    },
    {
      "cell_type": "markdown",
      "id": "6fb0f6a7",
      "metadata": {
        "id": "6fb0f6a7"
      },
      "source": [
        "In addition to training data, we can also **optionally** provide validation data, which will be used to make sure that the model does not overfit your training set.\n"
      ]
    },
    {
      "cell_type": "code",
      "execution_count": 71,
      "id": "5b853efa-dfea-4770-ab88-9b7e17794421",
      "metadata": {
        "id": "5b853efa-dfea-4770-ab88-9b7e17794421"
      },
      "outputs": [],
      "source": [
        "validation_data = validation_df.apply(\n",
        "    prepare_example_conversation, axis=1).tolist()"
      ]
    },
    {
      "cell_type": "markdown",
      "id": "1d5e7bfe-f6c8-4a23-a951-3df3f3791d7f",
      "metadata": {
        "id": "1d5e7bfe-f6c8-4a23-a951-3df3f3791d7f"
      },
      "source": [
        "We then need to save our data as `.jsonl` files, with each line being one training example conversation.\n"
      ]
    },
    {
      "cell_type": "code",
      "execution_count": 72,
      "id": "8d2eb207-2c2b-43f6-a613-64a7e92d494d",
      "metadata": {
        "id": "8d2eb207-2c2b-43f6-a613-64a7e92d494d"
      },
      "outputs": [],
      "source": [
        "def write_jsonl(data_list: list, filename: str) -> None:\n",
        "    with open(filename, \"w\") as out:\n",
        "        for ddict in data_list:\n",
        "            jout = json.dumps(ddict) + \"\\n\"\n",
        "            out.write(jout)"
      ]
    },
    {
      "cell_type": "code",
      "execution_count": 73,
      "id": "8b53e7a2-1cac-4c5f-8ba4-3292ba2a0770",
      "metadata": {
        "id": "8b53e7a2-1cac-4c5f-8ba4-3292ba2a0770"
      },
      "outputs": [],
      "source": [
        "training_file_name = \"tmp_financial_sentiment_finetune_training.jsonl\"\n",
        "write_jsonl(training_data, training_file_name)\n",
        "\n",
        "validation_file_name = \"tmp_financial_sentiment_finetune_validation.jsonl\"\n",
        "write_jsonl(validation_data, validation_file_name)"
      ]
    },
    {
      "cell_type": "markdown",
      "id": "80b274a3",
      "metadata": {
        "id": "80b274a3"
      },
      "source": [
        "This is what the first 5 lines of our training `.jsonl` file look like:\n"
      ]
    },
    {
      "cell_type": "code",
      "execution_count": 74,
      "id": "283c4ec2",
      "metadata": {
        "colab": {
          "base_uri": "https://localhost:8080/"
        },
        "id": "283c4ec2",
        "outputId": "a5886a95-3f9f-4ed5-d4d1-bb6b9230e0a3"
      },
      "outputs": [
        {
          "output_type": "stream",
          "name": "stdout",
          "text": [
            "{\"messages\": [{\"role\": \"system\", \"content\": \"You are an expert in financial sentiment prediction. You are to classify each text provided into {negative/neutral/positive}.\"}, {\"role\": \"user\", \"content\": \"Tesla Motors recalls 2,700 Model X SUVs https://t.co/BFWS3DbM0U $TSLA\"}, {\"role\": \"assistant\", \"content\": \"negative\"}]}\n",
            "{\"messages\": [{\"role\": \"system\", \"content\": \"You are an expert in financial sentiment prediction. You are to classify each text provided into {negative/neutral/positive}.\"}, {\"role\": \"user\", \"content\": \"Bank stocks have been big-time laggards in the ongoing market pullback. This is despite the fact that core features of the economy have been stable and rising interest rates are generally expected to benefit banks since they help expand their margins.\"}, {\"role\": \"assistant\", \"content\": \"mildly negative\"}]}\n",
            "{\"messages\": [{\"role\": \"system\", \"content\": \"You are an expert in financial sentiment prediction. You are to classify each text provided into {negative/neutral/positive}.\"}, {\"role\": \"user\", \"content\": \"$NSM ascending base breakout starting to gain traction; strong stock http://stks.co/gBSH\"}, {\"role\": \"assistant\", \"content\": \"positive\"}]}\n",
            "{\"messages\": [{\"role\": \"system\", \"content\": \"You are an expert in financial sentiment prediction. You are to classify each text provided into {negative/neutral/positive}.\"}, {\"role\": \"user\", \"content\": \"How Much is ResMed Inc.'s (NYSE:RMD) CEO Getting Paid?\"}, {\"role\": \"assistant\", \"content\": \"neutral\"}]}\n",
            "{\"messages\": [{\"role\": \"system\", \"content\": \"You are an expert in financial sentiment prediction. You are to classify each text provided into {negative/neutral/positive}.\"}, {\"role\": \"user\", \"content\": \"OUTOTEC OYJ PRESS RELEASE DECEMBER 4 , 2009 10.30 AM Outotec establishes a new subsidiary in Kolkata Outotec has established a subsidiary in India in order to better serve its Indian customers and to increase its business in the growing Indian market .\"}, {\"role\": \"assistant\", \"content\": \"positive\"}]}\n"
          ]
        }
      ],
      "source": [
        "# print the first 5 lines of the training file\n",
        "!head -n 5 tmp_financial_sentiment_finetune_training.jsonl"
      ]
    },
    {
      "cell_type": "markdown",
      "id": "0d149e2e-50dd-45c1-bd8d-1291975670b4",
      "metadata": {
        "id": "0d149e2e-50dd-45c1-bd8d-1291975670b4"
      },
      "source": [
        "### Upload files\n",
        "\n",
        "You can now upload the files to our `Files` endpoint to be used by the fine-tuned model.\n"
      ]
    },
    {
      "cell_type": "code",
      "execution_count": null,
      "id": "69462d9e-e6bd-49b9-a064-9eae4ea5b7a8",
      "metadata": {
        "id": "69462d9e-e6bd-49b9-a064-9eae4ea5b7a8",
        "outputId": "63956799-e4d7-4edb-b97c-b0996a137add"
      },
      "outputs": [
        {
          "name": "stdout",
          "output_type": "stream",
          "text": [
            "Training file ID: file-3wfAfDoYcGrSpaE17qK0vXT0\n",
            "Validation file ID: file-HhFhnyGJhazYdPcd3wrtvIoX\n"
          ]
        }
      ],
      "source": [
        "def upload_file(file_name: str, purpose: str) -> str:\n",
        "    with open(file_name, \"rb\") as file_fd:\n",
        "        response = client.files.create(file=file_fd, purpose=purpose)\n",
        "    return response.id\n",
        "\n",
        "\n",
        "training_file_id = upload_file(training_file_name, \"fine-tune\")\n",
        "validation_file_id = upload_file(validation_file_name, \"fine-tune\")\n",
        "\n",
        "print(\"Training file ID:\", training_file_id)\n",
        "print(\"Validation file ID:\", validation_file_id)"
      ]
    },
    {
      "cell_type": "markdown",
      "id": "d61cd381-63ad-4ed9-b0be-47a438891028",
      "metadata": {
        "id": "d61cd381-63ad-4ed9-b0be-47a438891028"
      },
      "source": [
        "## Fine-tuning\n",
        "\n",
        "Now we can create our fine-tuning job with the generated files and an optional suffix to identify the model. The response will contain an `id` which you can use to retrieve updates on the job.\n",
        "\n",
        "Note: The files have to first be processed by our system, so you might get a `File not ready` error. In that case, simply retry a few minutes later.\n"
      ]
    },
    {
      "cell_type": "code",
      "execution_count": null,
      "id": "05541ceb-5628-447e-962d-7e57c112439c",
      "metadata": {
        "id": "05541ceb-5628-447e-962d-7e57c112439c",
        "outputId": "0a2d0d39-c33b-46aa-cd17-28bb48545705"
      },
      "outputs": [
        {
          "name": "stdout",
          "output_type": "stream",
          "text": [
            "Job ID: ftjob-UiaiLwGdGBfdLQDBAoQheufN\n",
            "Status: validating_files\n"
          ]
        }
      ],
      "source": [
        "# MODEL = \"gpt-4o-mini-2024-07-18\"\n",
        "\n",
        "# response = client.fine_tuning.jobs.create(\n",
        "#     training_file=training_file_id,\n",
        "#     validation_file=validation_file_id,\n",
        "#     model=MODEL,\n",
        "#     suffix=\"recipe-ner\",\n",
        "# )\n",
        "\n",
        "# job_id = response.id\n",
        "\n",
        "# print(\"Job ID:\", response.id)\n",
        "# print(\"Status:\", response.status)"
      ]
    },
    {
      "cell_type": "markdown",
      "id": "1de3ed71-f2d4-4138-95a3-70da187a007e",
      "metadata": {
        "id": "1de3ed71-f2d4-4138-95a3-70da187a007e"
      },
      "source": [
        "#### Check job status\n",
        "\n",
        "You can make a `GET` request to the `https://api.openai.com/v1/alpha/fine-tunes` endpoint to list your alpha fine-tune jobs. In this instance you'll want to check that the ID you got from the previous step ends up as `status: succeeded`.\n",
        "\n",
        "Once it is completed, you can use the `result_files` to sample the results from the validation set (if you uploaded one), and use the ID from the `fine_tuned_model` parameter to invoke your trained model.\n"
      ]
    },
    {
      "cell_type": "code",
      "source": [
        "job_id = \"ftjob-sIlSttUJ3D7HS7R1Qzm8dlJA\""
      ],
      "metadata": {
        "id": "HeBa33mjRM3o"
      },
      "id": "HeBa33mjRM3o",
      "execution_count": 77,
      "outputs": []
    },
    {
      "cell_type": "code",
      "execution_count": 78,
      "id": "d7392f48",
      "metadata": {
        "id": "d7392f48",
        "outputId": "8b98a9ce-13cf-4ceb-c7b9-6b97488dab33",
        "colab": {
          "base_uri": "https://localhost:8080/"
        }
      },
      "outputs": [
        {
          "output_type": "stream",
          "name": "stdout",
          "text": [
            "Job ID: ftjob-sIlSttUJ3D7HS7R1Qzm8dlJA\n",
            "Status: validating_files\n",
            "Trained Tokens: None\n"
          ]
        }
      ],
      "source": [
        "response = client.fine_tuning.jobs.retrieve(job_id)\n",
        "\n",
        "print(\"Job ID:\", response.id)\n",
        "print(\"Status:\", response.status)\n",
        "print(\"Trained Tokens:\", response.trained_tokens)"
      ]
    },
    {
      "cell_type": "markdown",
      "id": "30a57fbb",
      "metadata": {
        "id": "30a57fbb"
      },
      "source": [
        "We can track the progress of the fine-tune with the events endpoint. You can rerun the cell below a few times until the fine-tune is ready.\n"
      ]
    },
    {
      "cell_type": "code",
      "execution_count": null,
      "id": "08cace28",
      "metadata": {
        "id": "08cace28",
        "outputId": "5f26e8c7-f36f-4c5c-bded-5d9349cb7e45"
      },
      "outputs": [
        {
          "name": "stdout",
          "output_type": "stream",
          "text": [
            "Step 288/303: training loss=0.00\n",
            "Step 289/303: training loss=0.01\n",
            "Step 290/303: training loss=0.00, validation loss=0.31\n",
            "Step 291/303: training loss=0.00\n",
            "Step 292/303: training loss=0.00\n",
            "Step 293/303: training loss=0.00\n",
            "Step 294/303: training loss=0.00\n",
            "Step 295/303: training loss=0.00\n",
            "Step 296/303: training loss=0.00\n",
            "Step 297/303: training loss=0.00\n",
            "Step 298/303: training loss=0.01\n",
            "Step 299/303: training loss=0.00\n",
            "Step 300/303: training loss=0.00, validation loss=0.04\n",
            "Step 301/303: training loss=0.16\n",
            "Step 302/303: training loss=0.00\n",
            "Step 303/303: training loss=0.00, full validation loss=0.33\n",
            "Checkpoint created at step 101 with Snapshot ID: ft:gpt-4o-mini-2024-07-18:openai-gtm:recipe-ner:9o1eNlSa:ckpt-step-101\n",
            "Checkpoint created at step 202 with Snapshot ID: ft:gpt-4o-mini-2024-07-18:openai-gtm:recipe-ner:9o1eNFnj:ckpt-step-202\n",
            "New fine-tuned model created: ft:gpt-4o-mini-2024-07-18:openai-gtm:recipe-ner:9o1eNNKO\n",
            "The job has successfully completed\n"
          ]
        }
      ],
      "source": [
        "# response = client.fine_tuning.jobs.list_events(job_id)\n",
        "\n",
        "# events = response.data\n",
        "# events.reverse()\n",
        "\n",
        "# for event in events:\n",
        "#     print(event.message)"
      ]
    },
    {
      "cell_type": "markdown",
      "id": "d0da4e32",
      "metadata": {
        "id": "d0da4e32"
      },
      "source": [
        "Now that it's done, we can get a fine-tuned model ID from the job:\n"
      ]
    },
    {
      "cell_type": "code",
      "execution_count": 79,
      "id": "40b28c26",
      "metadata": {
        "id": "40b28c26",
        "outputId": "f9e6598b-84af-4e0c-f41a-28bf32393e7e",
        "colab": {
          "base_uri": "https://localhost:8080/",
          "height": 211
        }
      },
      "outputs": [
        {
          "output_type": "error",
          "ename": "RuntimeError",
          "evalue": "Fine-tuned model ID not found. Your job has likely not been completed yet.",
          "traceback": [
            "\u001b[0;31m---------------------------------------------------------------------------\u001b[0m",
            "\u001b[0;31mRuntimeError\u001b[0m                              Traceback (most recent call last)",
            "\u001b[0;32m<ipython-input-79-4d94471c5abe>\u001b[0m in \u001b[0;36m<cell line: 4>\u001b[0;34m()\u001b[0m\n\u001b[1;32m      3\u001b[0m \u001b[0;34m\u001b[0m\u001b[0m\n\u001b[1;32m      4\u001b[0m \u001b[0;32mif\u001b[0m \u001b[0mfine_tuned_model_id\u001b[0m \u001b[0;32mis\u001b[0m \u001b[0;32mNone\u001b[0m\u001b[0;34m:\u001b[0m\u001b[0;34m\u001b[0m\u001b[0;34m\u001b[0m\u001b[0m\n\u001b[0;32m----> 5\u001b[0;31m     raise RuntimeError(\n\u001b[0m\u001b[1;32m      6\u001b[0m         \u001b[0;34m\"Fine-tuned model ID not found. Your job has likely not been completed yet.\"\u001b[0m\u001b[0;34m\u001b[0m\u001b[0;34m\u001b[0m\u001b[0m\n\u001b[1;32m      7\u001b[0m     )\n",
            "\u001b[0;31mRuntimeError\u001b[0m: Fine-tuned model ID not found. Your job has likely not been completed yet."
          ]
        }
      ],
      "source": [
        "response = client.fine_tuning.jobs.retrieve(job_id)\n",
        "fine_tuned_model_id = response.fine_tuned_model\n",
        "\n",
        "if fine_tuned_model_id is None:\n",
        "    raise RuntimeError(\n",
        "        \"Fine-tuned model ID not found. Your job has likely not been completed yet.\"\n",
        "    )\n",
        "\n",
        "print(\"Fine-tuned model ID:\", fine_tuned_model_id)"
      ]
    },
    {
      "cell_type": "markdown",
      "id": "0025e392-84cd-4566-a384-ea31ca43e567",
      "metadata": {
        "id": "0025e392-84cd-4566-a384-ea31ca43e567"
      },
      "source": [
        "## Inference\n"
      ]
    },
    {
      "cell_type": "markdown",
      "id": "0ab9ac11",
      "metadata": {
        "id": "0ab9ac11"
      },
      "source": [
        "The last step is to use your fine-tuned model for inference. Similar to the classic `FineTuning`, you simply call `ChatCompletions` with your new fine-tuned model name filling the `model` parameter.\n"
      ]
    },
    {
      "cell_type": "code",
      "execution_count": 76,
      "id": "1c7de631-b68f-4eff-9ae7-051641579c2b",
      "metadata": {
        "id": "1c7de631-b68f-4eff-9ae7-051641579c2b",
        "outputId": "c8b68489-77c0-4f75-88dc-28b49bbd353e",
        "colab": {
          "base_uri": "https://localhost:8080/"
        }
      },
      "outputs": [
        {
          "output_type": "stream",
          "name": "stdout",
          "text": [
            "[{'content': 'You are an expert in financial sentiment prediction. You are to '\n",
            "             'classify each text provided into {negative/neutral/positive}.',\n",
            "  'role': 'system'},\n",
            " {'content': 'Horizon Media Study Finds Instagram’s Move to Hide Likes is Somewhat of a Collective Shrug, but with a Glimmer of H… https://t.co/gxnZp3H5lh',\n",
            "  'role': 'user'}]\n"
          ]
        }
      ],
      "source": [
        "test_df = training_df.loc[201:300]\n",
        "test_row = training_df.iloc[10]\n",
        "test_messages = []\n",
        "test_messages.append({\"role\": \"system\", \"content\": system_message})\n",
        "user_message = test_row[\"input\"]\n",
        "test_messages.append({\"role\": \"user\", \"content\": user_message})\n",
        "\n",
        "pprint(test_messages)"
      ]
    },
    {
      "cell_type": "code",
      "execution_count": null,
      "id": "1a1d2589",
      "metadata": {
        "id": "1a1d2589",
        "outputId": "b9a8d3ce-9504-41c7-8fb7-633784d3749d"
      },
      "outputs": [
        {
          "name": "stdout",
          "output_type": "stream",
          "text": [
            "[\"beef brisket\", \"catsup\", \"water\", \"onion\", \"cider vinegar\", \"horseradish\", \"mustard\", \"salt\", \"pepper\"]\n"
          ]
        }
      ],
      "source": [
        "response = client.chat.completions.create(\n",
        "    model=fine_tuned_model_id, messages=test_messages, temperature=0, max_tokens=500\n",
        ")\n",
        "print(response.choices[0].message.content)"
      ]
    },
    {
      "cell_type": "markdown",
      "id": "07799909-3f2a-4274-b81e-dabc048be28f",
      "metadata": {
        "id": "07799909-3f2a-4274-b81e-dabc048be28f"
      },
      "source": [
        "## Conclusion\n",
        "\n",
        "Congratulations, you are now ready to fine-tune your own models using the `ChatCompletion` format! We look forward to seeing what you build\n"
      ]
    }
  ],
  "metadata": {
    "kernelspec": {
      "display_name": "Python 3",
      "language": "python",
      "name": "python3"
    },
    "language_info": {
      "codemirror_mode": {
        "name": "ipython",
        "version": 3
      },
      "file_extension": ".py",
      "mimetype": "text/x-python",
      "name": "python",
      "nbconvert_exporter": "python",
      "pygments_lexer": "ipython3",
      "version": "3.11.8"
    },
    "colab": {
      "provenance": [],
      "collapsed_sections": [
        "0d149e2e-50dd-45c1-bd8d-1291975670b4"
      ],
      "include_colab_link": true
    }
  },
  "nbformat": 4,
  "nbformat_minor": 5
}