{
  "nbformat": 4,
  "nbformat_minor": 0,
  "metadata": {
    "colab": {
      "name": "Day_6_Admission_prediction_with_pyspark_ml.ipynb",
      "provenance": [],
      "collapsed_sections": [
        "rZtskxrQyg3e"
      ],
      "include_colab_link": true
    },
    "kernelspec": {
      "name": "python3",
      "display_name": "Python 3"
    }
  },
  "cells": [
    {
      "cell_type": "markdown",
      "metadata": {
        "id": "view-in-github",
        "colab_type": "text"
      },
      "source": [
        "<a href=\"https://colab.research.google.com/github/Ashish-Soni08/100-Days-Of-Code/blob/main/Day_6_Admission_prediction_with_pyspark_ml.ipynb\" target=\"_parent\"><img src=\"https://colab.research.google.com/assets/colab-badge.svg\" alt=\"Open In Colab\"/></a>"
      ]
    },
    {
      "cell_type": "markdown",
      "metadata": {
        "id": "rZtskxrQyg3e"
      },
      "source": [
        "# TASK 1 : Install Dependencies & Run a SparkSession\n"
      ]
    },
    {
      "cell_type": "code",
      "metadata": {
        "id": "a9huiQF8yfIK",
        "colab": {
          "base_uri": "https://localhost:8080/"
        },
        "outputId": "cc908db4-b11c-4097-ffc3-8e3617fc7e8f"
      },
      "source": [
        "#install pyspark\n",
        "\n",
        "! pip install pyspark --quiet"
      ],
      "execution_count": null,
      "outputs": [
        {
          "output_type": "stream",
          "name": "stdout",
          "text": [
            "\u001b[K     |████████████████████████████████| 212.4 MB 66 kB/s \n",
            "\u001b[K     |████████████████████████████████| 198 kB 52.6 MB/s \n",
            "\u001b[?25h  Building wheel for pyspark (setup.py) ... \u001b[?25l\u001b[?25hdone\n"
          ]
        }
      ]
    },
    {
      "cell_type": "code",
      "metadata": {
        "id": "1wZpO2gxy7Pt"
      },
      "source": [
        "#create a sparksession\n",
        "\n",
        "from pyspark.sql import SparkSession\n",
        "\n",
        "# SparkSession provides  a single point entry to interact with the underlying spark functionality \n",
        "# and allows spark programming with Dataframe and Dataset APIs\n",
        "\n",
        "spark = SparkSession.builder.appName(\"spark\").getOrCreate()    # builder method: for constructing a spark session\n",
        "# getOrCreate: a new spark session or returns an existing spark session"
      ],
      "execution_count": null,
      "outputs": []
    },
    {
      "cell_type": "markdown",
      "metadata": {
        "id": "8t7JFc_My__A"
      },
      "source": [
        "# TASK 2 : Clone & Explore dataset"
      ]
    },
    {
      "cell_type": "code",
      "metadata": {
        "id": "C0oRpI4ezFgc",
        "colab": {
          "base_uri": "https://localhost:8080/"
        },
        "outputId": "8bef2880-5919-446a-d945-9f3d1f34a979"
      },
      "source": [
        "#clone the dataset\n",
        "! git clone https://github.com/education454/admission_dataset"
      ],
      "execution_count": null,
      "outputs": [
        {
          "output_type": "stream",
          "name": "stdout",
          "text": [
            "Cloning into 'admission_dataset'...\n",
            "remote: Enumerating objects: 3, done.\u001b[K\n",
            "remote: Counting objects: 100% (3/3), done.\u001b[K\n",
            "remote: Compressing objects: 100% (3/3), done.\u001b[K\n",
            "remote: Total 3 (delta 0), reused 0 (delta 0), pack-reused 0\u001b[K\n",
            "Unpacking objects: 100% (3/3), done.\n"
          ]
        }
      ]
    },
    {
      "cell_type": "code",
      "metadata": {
        "id": "Evfd9ACizers",
        "colab": {
          "base_uri": "https://localhost:8080/"
        },
        "outputId": "3072b7ae-9a8c-4a72-8f23-85bb67297a85"
      },
      "source": [
        "#check the presence of dataset\n",
        "\n",
        "!ls"
      ],
      "execution_count": null,
      "outputs": [
        {
          "output_type": "stream",
          "name": "stdout",
          "text": [
            "admission_dataset  sample_data\n"
          ]
        }
      ]
    },
    {
      "cell_type": "code",
      "metadata": {
        "id": "q6sF2NVazjtU"
      },
      "source": [
        "# create a spark dataframe (difference to pandas dataframes, spark dataframes \n",
        "# are immutable , you have to create a new dataframe with updated values)\n",
        "\n",
        "df = spark.read.csv('/content/admission_dataset/Admission_Predict_Ver1.1.csv', header = True, inferSchema = True)\n"
      ],
      "execution_count": null,
      "outputs": []
    },
    {
      "cell_type": "code",
      "metadata": {
        "id": "cG6UhIUuznfJ",
        "colab": {
          "base_uri": "https://localhost:8080/"
        },
        "outputId": "24275538-247c-4a9d-94d0-8980120c4813"
      },
      "source": [
        "#display dataframe\n",
        "\n",
        "df.show()"
      ],
      "execution_count": null,
      "outputs": [
        {
          "output_type": "stream",
          "name": "stdout",
          "text": [
            "+---------+---------+-----------+-----------------+---+---+----+--------+---------------+\n",
            "|Serial No|GRE Score|TOEFL Score|University Rating|SOP|LOR|CGPA|Research|Chance of Admit|\n",
            "+---------+---------+-----------+-----------------+---+---+----+--------+---------------+\n",
            "|        1|      337|        118|                4|4.5|4.5|9.65|       1|           0.92|\n",
            "|        2|      324|        107|                4|4.0|4.5|8.87|       1|           0.76|\n",
            "|        3|      316|        104|                3|3.0|3.5| 8.0|       1|           0.72|\n",
            "|        4|      322|        110|                3|3.5|2.5|8.67|       1|            0.8|\n",
            "|        5|      314|        103|                2|2.0|3.0|8.21|       0|           0.65|\n",
            "|        6|      330|        115|                5|4.5|3.0|9.34|       1|            0.9|\n",
            "|        7|      321|        109|                3|3.0|4.0| 8.2|       1|           0.75|\n",
            "|        8|      308|        101|                2|3.0|4.0| 7.9|       0|           0.68|\n",
            "|        9|      302|        102|                1|2.0|1.5| 8.0|       0|            0.5|\n",
            "|       10|      323|        108|                3|3.5|3.0| 8.6|       0|           0.45|\n",
            "|       11|      325|        106|                3|3.5|4.0| 8.4|       1|           0.52|\n",
            "|       12|      327|        111|                4|4.0|4.5| 9.0|       1|           0.84|\n",
            "|       13|      328|        112|                4|4.0|4.5| 9.1|       1|           0.78|\n",
            "|       14|      307|        109|                3|4.0|3.0| 8.0|       1|           0.62|\n",
            "|       15|      311|        104|                3|3.5|2.0| 8.2|       1|           0.61|\n",
            "|       16|      314|        105|                3|3.5|2.5| 8.3|       0|           0.54|\n",
            "|       17|      317|        107|                3|4.0|3.0| 8.7|       0|           0.66|\n",
            "|       18|      319|        106|                3|4.0|3.0| 8.0|       1|           0.65|\n",
            "|       19|      318|        110|                3|4.0|3.0| 8.8|       0|           0.63|\n",
            "|       20|      303|        102|                3|3.5|3.0| 8.5|       0|           0.62|\n",
            "+---------+---------+-----------+-----------------+---+---+----+--------+---------------+\n",
            "only showing top 20 rows\n",
            "\n"
          ]
        }
      ]
    },
    {
      "cell_type": "code",
      "metadata": {
        "id": "tgtWocArzqVR",
        "colab": {
          "base_uri": "https://localhost:8080/"
        },
        "outputId": "393bae9b-d02e-420f-caee-7a51b1cb62de"
      },
      "source": [
        "#get the no.of rows & columns\n",
        "\n",
        "print('Nunber of rows: ', df.count())\n",
        "print('Number of columns: ', len(df.columns))"
      ],
      "execution_count": null,
      "outputs": [
        {
          "output_type": "stream",
          "name": "stdout",
          "text": [
            "Nunber of rows:  500\n",
            "Number of columns:  9\n"
          ]
        }
      ]
    },
    {
      "cell_type": "code",
      "metadata": {
        "id": "OWQTe006zt7O",
        "colab": {
          "base_uri": "https://localhost:8080/"
        },
        "outputId": "6e3e40de-0811-4d50-e0ba-2d5a6e30bddd"
      },
      "source": [
        "#print schema \n",
        "\n",
        "df.printSchema()"
      ],
      "execution_count": null,
      "outputs": [
        {
          "output_type": "stream",
          "name": "stdout",
          "text": [
            "root\n",
            " |-- Serial No: integer (nullable = true)\n",
            " |-- GRE Score: integer (nullable = true)\n",
            " |-- TOEFL Score: integer (nullable = true)\n",
            " |-- University Rating: integer (nullable = true)\n",
            " |-- SOP: double (nullable = true)\n",
            " |-- LOR: double (nullable = true)\n",
            " |-- CGPA: double (nullable = true)\n",
            " |-- Research: integer (nullable = true)\n",
            " |-- Chance of Admit: double (nullable = true)\n",
            "\n"
          ]
        }
      ]
    },
    {
      "cell_type": "code",
      "metadata": {
        "id": "locEx8HDz264",
        "colab": {
          "base_uri": "https://localhost:8080/"
        },
        "outputId": "a8a1ff45-acc7-4357-9466-0d3d84c26f78"
      },
      "source": [
        "#get the summary statistics\n",
        "\n",
        "df.describe().show()"
      ],
      "execution_count": null,
      "outputs": [
        {
          "output_type": "stream",
          "name": "stdout",
          "text": [
            "+-------+-----------------+------------------+-----------------+-----------------+------------------+------------------+------------------+------------------+-------------------+\n",
            "|summary|        Serial No|         GRE Score|      TOEFL Score|University Rating|               SOP|               LOR|              CGPA|          Research|    Chance of Admit|\n",
            "+-------+-----------------+------------------+-----------------+-----------------+------------------+------------------+------------------+------------------+-------------------+\n",
            "|  count|              500|               500|              500|              500|               500|               500|               500|               500|                500|\n",
            "|   mean|            250.5|           316.472|          107.192|            3.114|             3.374|             3.484| 8.576440000000003|              0.56| 0.7217399999999996|\n",
            "| stddev|144.4818327679989|11.295148372354712|6.081867659564538|1.143511800759815|0.9910036207566072|0.9254495738978191|0.6048128003332054|0.4968840786090358|0.14114040395030228|\n",
            "|    min|                1|               290|               92|                1|               1.0|               1.0|               6.8|                 0|               0.34|\n",
            "|    max|              500|               340|              120|                5|               5.0|               5.0|              9.92|                 1|               0.97|\n",
            "+-------+-----------------+------------------+-----------------+-----------------+------------------+------------------+------------------+------------------+-------------------+\n",
            "\n"
          ]
        }
      ]
    },
    {
      "cell_type": "markdown",
      "metadata": {
        "id": "6uDdoEKsz6h6"
      },
      "source": [
        "# TASK 3 : Data Cleaning"
      ]
    },
    {
      "cell_type": "code",
      "metadata": {
        "id": "o6gJAFo30G9s"
      },
      "source": [
        "#drop the unnecessary column\n",
        "\n",
        "df = df.drop('Serial No')"
      ],
      "execution_count": null,
      "outputs": []
    },
    {
      "cell_type": "code",
      "metadata": {
        "id": "_lOPoDVk0OFH",
        "colab": {
          "base_uri": "https://localhost:8080/"
        },
        "outputId": "cd3c812f-2c7c-4163-d0b7-2681fe4ebd5f"
      },
      "source": [
        "#display the dataframe\n",
        "\n",
        "df.show()"
      ],
      "execution_count": null,
      "outputs": [
        {
          "output_type": "stream",
          "name": "stdout",
          "text": [
            "+---------+-----------+-----------------+---+---+----+--------+---------------+\n",
            "|GRE Score|TOEFL Score|University Rating|SOP|LOR|CGPA|Research|Chance of Admit|\n",
            "+---------+-----------+-----------------+---+---+----+--------+---------------+\n",
            "|      337|        118|                4|4.5|4.5|9.65|       1|           0.92|\n",
            "|      324|        107|                4|4.0|4.5|8.87|       1|           0.76|\n",
            "|      316|        104|                3|3.0|3.5| 8.0|       1|           0.72|\n",
            "|      322|        110|                3|3.5|2.5|8.67|       1|            0.8|\n",
            "|      314|        103|                2|2.0|3.0|8.21|       0|           0.65|\n",
            "|      330|        115|                5|4.5|3.0|9.34|       1|            0.9|\n",
            "|      321|        109|                3|3.0|4.0| 8.2|       1|           0.75|\n",
            "|      308|        101|                2|3.0|4.0| 7.9|       0|           0.68|\n",
            "|      302|        102|                1|2.0|1.5| 8.0|       0|            0.5|\n",
            "|      323|        108|                3|3.5|3.0| 8.6|       0|           0.45|\n",
            "|      325|        106|                3|3.5|4.0| 8.4|       1|           0.52|\n",
            "|      327|        111|                4|4.0|4.5| 9.0|       1|           0.84|\n",
            "|      328|        112|                4|4.0|4.5| 9.1|       1|           0.78|\n",
            "|      307|        109|                3|4.0|3.0| 8.0|       1|           0.62|\n",
            "|      311|        104|                3|3.5|2.0| 8.2|       1|           0.61|\n",
            "|      314|        105|                3|3.5|2.5| 8.3|       0|           0.54|\n",
            "|      317|        107|                3|4.0|3.0| 8.7|       0|           0.66|\n",
            "|      319|        106|                3|4.0|3.0| 8.0|       1|           0.65|\n",
            "|      318|        110|                3|4.0|3.0| 8.8|       0|           0.63|\n",
            "|      303|        102|                3|3.5|3.0| 8.5|       0|           0.62|\n",
            "+---------+-----------+-----------------+---+---+----+--------+---------------+\n",
            "only showing top 20 rows\n",
            "\n"
          ]
        }
      ]
    },
    {
      "cell_type": "code",
      "metadata": {
        "id": "Au73oUZJ0Qv7",
        "colab": {
          "base_uri": "https://localhost:8080/"
        },
        "outputId": "12c411cf-68b5-4954-89b9-67a30de04625"
      },
      "source": [
        "#check for null values\n",
        "\n",
        "for i in df.columns:\n",
        "  print(i + \":\",df[df[i].isNull()].count())"
      ],
      "execution_count": null,
      "outputs": [
        {
          "output_type": "stream",
          "name": "stdout",
          "text": [
            "GRE Score: 0\n",
            "TOEFL Score: 0\n",
            "University Rating: 0\n",
            "SOP: 0\n",
            "LOR: 0\n",
            "CGPA: 0\n",
            "Research: 0\n",
            "Chance of Admit: 0\n"
          ]
        }
      ]
    },
    {
      "cell_type": "markdown",
      "metadata": {
        "id": "prkDI9Dc0SoH"
      },
      "source": [
        "# TASK 4 : Correlation Analysis & Feature Selection"
      ]
    },
    {
      "cell_type": "code",
      "metadata": {
        "id": "eFhxSRRj0Ypa",
        "colab": {
          "base_uri": "https://localhost:8080/"
        },
        "outputId": "f2ea9018-9198-44e4-e559-40306d9e4e75"
      },
      "source": [
        "# correlation analysis\n",
        "\n",
        "for col in df.columns:\n",
        "  print('Correlation to Chance of Admit variable for {} is {}'.format(col, df.stat.corr('Chance of Admit', col)))"
      ],
      "execution_count": null,
      "outputs": [
        {
          "output_type": "stream",
          "name": "stdout",
          "text": [
            "Correlation to Chance of Admit variable for GRE Score is 0.8103506354632598\n",
            "Correlation to Chance of Admit variable for TOEFL Score is 0.7922276143050823\n",
            "Correlation to Chance of Admit variable for University Rating is 0.6901323687886892\n",
            "Correlation to Chance of Admit variable for SOP is 0.6841365241316723\n",
            "Correlation to Chance of Admit variable for LOR is 0.6453645135280112\n",
            "Correlation to Chance of Admit variable for CGPA is 0.882412574904574\n",
            "Correlation to Chance of Admit variable for Research is 0.5458710294711379\n",
            "Correlation to Chance of Admit variable for Chance of Admit is 1.0\n"
          ]
        }
      ]
    },
    {
      "cell_type": "code",
      "metadata": {
        "id": "UXNOknvo0dV2"
      },
      "source": [
        "# feature selection\n",
        "\n",
        "from pyspark.ml.feature import VectorAssembler\n",
        "\n",
        "assembler = VectorAssembler(inputCols = ['GRE Score', 'TOEFL Score', 'CGPA'], outputCol = 'features')"
      ],
      "execution_count": null,
      "outputs": []
    },
    {
      "cell_type": "code",
      "metadata": {
        "id": "JOzlkPaz0ibL",
        "colab": {
          "base_uri": "https://localhost:8080/"
        },
        "outputId": "95c08e92-b6e3-4a7d-c578-efcdd001887c"
      },
      "source": [
        "#display dataframe\n",
        "\n",
        "output_data = assembler.transform(df)\n",
        "\n",
        "output_data.show()"
      ],
      "execution_count": null,
      "outputs": [
        {
          "output_type": "stream",
          "name": "stdout",
          "text": [
            "+---------+-----------+-----------------+---+---+----+--------+---------------+------------------+\n",
            "|GRE Score|TOEFL Score|University Rating|SOP|LOR|CGPA|Research|Chance of Admit|          features|\n",
            "+---------+-----------+-----------------+---+---+----+--------+---------------+------------------+\n",
            "|      337|        118|                4|4.5|4.5|9.65|       1|           0.92|[337.0,118.0,9.65]|\n",
            "|      324|        107|                4|4.0|4.5|8.87|       1|           0.76|[324.0,107.0,8.87]|\n",
            "|      316|        104|                3|3.0|3.5| 8.0|       1|           0.72| [316.0,104.0,8.0]|\n",
            "|      322|        110|                3|3.5|2.5|8.67|       1|            0.8|[322.0,110.0,8.67]|\n",
            "|      314|        103|                2|2.0|3.0|8.21|       0|           0.65|[314.0,103.0,8.21]|\n",
            "|      330|        115|                5|4.5|3.0|9.34|       1|            0.9|[330.0,115.0,9.34]|\n",
            "|      321|        109|                3|3.0|4.0| 8.2|       1|           0.75| [321.0,109.0,8.2]|\n",
            "|      308|        101|                2|3.0|4.0| 7.9|       0|           0.68| [308.0,101.0,7.9]|\n",
            "|      302|        102|                1|2.0|1.5| 8.0|       0|            0.5| [302.0,102.0,8.0]|\n",
            "|      323|        108|                3|3.5|3.0| 8.6|       0|           0.45| [323.0,108.0,8.6]|\n",
            "|      325|        106|                3|3.5|4.0| 8.4|       1|           0.52| [325.0,106.0,8.4]|\n",
            "|      327|        111|                4|4.0|4.5| 9.0|       1|           0.84| [327.0,111.0,9.0]|\n",
            "|      328|        112|                4|4.0|4.5| 9.1|       1|           0.78| [328.0,112.0,9.1]|\n",
            "|      307|        109|                3|4.0|3.0| 8.0|       1|           0.62| [307.0,109.0,8.0]|\n",
            "|      311|        104|                3|3.5|2.0| 8.2|       1|           0.61| [311.0,104.0,8.2]|\n",
            "|      314|        105|                3|3.5|2.5| 8.3|       0|           0.54| [314.0,105.0,8.3]|\n",
            "|      317|        107|                3|4.0|3.0| 8.7|       0|           0.66| [317.0,107.0,8.7]|\n",
            "|      319|        106|                3|4.0|3.0| 8.0|       1|           0.65| [319.0,106.0,8.0]|\n",
            "|      318|        110|                3|4.0|3.0| 8.8|       0|           0.63| [318.0,110.0,8.8]|\n",
            "|      303|        102|                3|3.5|3.0| 8.5|       0|           0.62| [303.0,102.0,8.5]|\n",
            "+---------+-----------+-----------------+---+---+----+--------+---------------+------------------+\n",
            "only showing top 20 rows\n",
            "\n"
          ]
        }
      ]
    },
    {
      "cell_type": "markdown",
      "metadata": {
        "id": "l6FucLAC0r5I"
      },
      "source": [
        "# TASK 5 : Build the Linear Regression Model"
      ]
    },
    {
      "cell_type": "code",
      "metadata": {
        "id": "RMYN_8jJ0wDR"
      },
      "source": [
        "#import Linearregression and create final data\n",
        "\n",
        "from pyspark.ml.regression import LinearRegression\n",
        "\n",
        "final_data = output_data.select('features', 'Chance of Admit')"
      ],
      "execution_count": null,
      "outputs": []
    },
    {
      "cell_type": "code",
      "metadata": {
        "id": "MNSEfLCp09oO",
        "colab": {
          "base_uri": "https://localhost:8080/"
        },
        "outputId": "6b36a3a6-b41f-4aca-a1e6-fabf01243122"
      },
      "source": [
        "#print schema of final data\n",
        "\n",
        "final_data.printSchema()"
      ],
      "execution_count": null,
      "outputs": [
        {
          "output_type": "stream",
          "name": "stdout",
          "text": [
            "root\n",
            " |-- features: vector (nullable = true)\n",
            " |-- Chance of Admit: double (nullable = true)\n",
            "\n"
          ]
        }
      ]
    },
    {
      "cell_type": "code",
      "metadata": {
        "id": "vOJylIiS1Dre"
      },
      "source": [
        "#split the dataset into training and testing set\n",
        "\n",
        "train, test = final_data.randomSplit([0.7,0.3])"
      ],
      "execution_count": null,
      "outputs": []
    },
    {
      "cell_type": "code",
      "metadata": {
        "id": "xoxFzm4A1Hee"
      },
      "source": [
        "#build & train the model\n",
        "\n",
        "models = LinearRegression(featuresCol = 'features', labelCol = 'Chance of Admit')\n",
        "model = models.fit(train)"
      ],
      "execution_count": null,
      "outputs": []
    },
    {
      "cell_type": "code",
      "metadata": {
        "id": "DDCZ9uvA1QLf",
        "colab": {
          "base_uri": "https://localhost:8080/"
        },
        "outputId": "217e26f2-6470-40d2-b8af-eebf5a1c4dee"
      },
      "source": [
        "#get coefficients & intercept\n",
        "\n",
        "print(\"Coefficients:\", model.coefficients)\n",
        "print('intercept', model.intercept)"
      ],
      "execution_count": null,
      "outputs": [
        {
          "output_type": "stream",
          "name": "stdout",
          "text": [
            "Coefficients: [0.0023968651760626113,0.0025979717433670985,0.15253708673623745]\n",
            "intercept -1.6244508083871094\n"
          ]
        }
      ]
    },
    {
      "cell_type": "code",
      "metadata": {
        "id": "bO6Duj1l1YJX"
      },
      "source": [
        "#get summary of the model\n",
        "\n",
        "\n",
        "summary = model.summary"
      ],
      "execution_count": null,
      "outputs": []
    },
    {
      "cell_type": "code",
      "metadata": {
        "id": "ebi9LxFS1aBJ",
        "colab": {
          "base_uri": "https://localhost:8080/"
        },
        "outputId": "aaa8e37b-651b-4e78-e7b8-a7e6d1df80cb"
      },
      "source": [
        "#print the rmse & r2 score\n",
        "\n",
        "print('RMSE', summary.rootMeanSquaredError) # lower the better \n",
        "print('r2 score', summary.r2) # higher the better, how close are data fitted to the regression line"
      ],
      "execution_count": null,
      "outputs": [
        {
          "output_type": "stream",
          "name": "stdout",
          "text": [
            "RMSE 0.06192123878107236\n",
            "r2 score 0.8074786792301893\n"
          ]
        }
      ]
    },
    {
      "cell_type": "markdown",
      "metadata": {
        "id": "b5lTskfK1eKV"
      },
      "source": [
        "# TASK 6 : Evaluate & Save the Model"
      ]
    },
    {
      "cell_type": "code",
      "metadata": {
        "id": "l0TAwvGP1noC"
      },
      "source": [
        "#transform on the test data\n",
        "\n",
        "predictions = model.transform(test)"
      ],
      "execution_count": null,
      "outputs": []
    },
    {
      "cell_type": "code",
      "metadata": {
        "id": "T_DixZ6f1nvP",
        "colab": {
          "base_uri": "https://localhost:8080/"
        },
        "outputId": "1aef1f10-e1a9-4ccf-a2eb-b89fa1d65263"
      },
      "source": [
        "#display the predictions\n",
        "\n",
        "predictions.show(15)"
      ],
      "execution_count": null,
      "outputs": [
        {
          "output_type": "stream",
          "name": "stdout",
          "text": [
            "+------------------+---------------+------------------+\n",
            "|          features|Chance of Admit|        prediction|\n",
            "+------------------+---------------+------------------+\n",
            "|  [293.0,97.0,7.8]|           0.64|0.5196232238484966|\n",
            "| [295.0,99.0,7.65]|           0.57|0.5067323346769201|\n",
            "|[295.0,101.0,7.86]|           0.69|0.5439610663782644|\n",
            "| [296.0,95.0,7.54]|           0.44|0.4819582333385284|\n",
            "|  [296.0,97.0,7.8]|           0.49|0.5268138193766843|\n",
            "|[296.0,101.0,7.68]|            0.6| 0.518901255941804|\n",
            "| [297.0,100.0,7.9]|           0.52|0.5522583084564718|\n",
            "| [298.0,92.0,7.88]|           0.51| 0.530820657950873|\n",
            "| [298.0,98.0,8.03]|           0.34|0.5692890514215112|\n",
            "|[298.0,105.0,8.54]|           0.69|0.6652687678605618|\n",
            "| [299.0,96.0,7.86]|           0.54|0.5405586683656793|\n",
            "|[299.0,100.0,7.88]|           0.51|0.5540012970738724|\n",
            "|[299.0,100.0,8.02]|           0.63|0.5753564892169456|\n",
            "| [299.0,106.0,8.4]|           0.64|0.6489084126369182|\n",
            "| [300.0,95.0,8.22]|           0.62|  0.59527091302342|\n",
            "+------------------+---------------+------------------+\n",
            "only showing top 15 rows\n",
            "\n"
          ]
        }
      ]
    },
    {
      "cell_type": "code",
      "metadata": {
        "id": "vzxDnudZ1n3n",
        "colab": {
          "base_uri": "https://localhost:8080/"
        },
        "outputId": "910e1ada-33cf-4bc6-bf09-ced5ec820541"
      },
      "source": [
        "#evaluate the model \n",
        "\n",
        "from pyspark.ml.evaluation import RegressionEvaluator\n",
        "\n",
        "evaluator = RegressionEvaluator(predictionCol = 'prediction', labelCol = 'Chance of Admit', metricName = 'r2')\n",
        "\n",
        "print('r2 on test data', evaluator.evaluate(predictions))"
      ],
      "execution_count": null,
      "outputs": [
        {
          "output_type": "stream",
          "name": "stdout",
          "text": [
            "r2 on test data 0.7929076752527676\n"
          ]
        }
      ]
    },
    {
      "cell_type": "code",
      "metadata": {
        "id": "WEeyiruX1n_I"
      },
      "source": [
        "#save the model\n",
        "\n",
        "model.save(\"model\")"
      ],
      "execution_count": null,
      "outputs": []
    },
    {
      "cell_type": "code",
      "metadata": {
        "id": "PK48FYRd2CMJ"
      },
      "source": [
        "#load the model\n",
        "\n",
        "from pyspark.ml.regression import LinearRegressionModel\n",
        "\n",
        "model = LinearRegressionModel.load('model')"
      ],
      "execution_count": null,
      "outputs": []
    }
  ]
}